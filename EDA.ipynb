{
 "cells": [
  {
   "attachments": {},
   "cell_type": "markdown",
   "metadata": {},
   "source": [
    "## Customer Churn Prediction for Music APP using pySpark\n",
    "\n",
    "The project aims to predict the likelihood of a user to churn (to cancel their subscription) based on their session logs. Dataset is provided by Udacity as part of their **Data Scientist Nanodegree program**. <br>\n",
    "<br><br>\n",
    "I used #`AWS EMR clusters` to run the code on the cloud. My first plan was to use IMB Watson Data Studio to run the cluster without paying anything but for some reason they refused to activate my account. So I had to use AWS EMR clusters. \n",
    "\n",
    "Another cloud vendor that I was considering was Microsoft Azure Databricks. However, with my student subscription I was only allowed to run a cluster on a single node, which is nothing different than running the code on my local machine. So I decided to go with AWS EMR clusters. <br>\n",
    "<br>\n",
    "\n",
    " The code is written in Python 3.8. The project uses the following libraries: <br>\n",
    "* **pyspark** - for the Machine Learning and Data Wrangling\n",
    "* **pandas** - for Data Wrangling\n",
    "* **matplotlib** - for Data Visualization\n",
    "* **musicbrainz API** - for accessing the musicbrainz database to get any artist's genres and other information\n",
    "\n",
    "## Contents\n",
    "* [**Initializing The Notebook**](#cleaning)\n",
    "* [**Exploratory Data Analysis**](#EDA)\n",
    "* [**Feature Engineering**](#feature)\n",
    "* [**Predictive Modelling**](#modelling)\n",
    "* [**Conclusion**](#conclude)\n",
    "\n",
    "### Context and Business Problem\n",
    "\n",
    "Customer churn is a major problem for any busines. It is important to predict the likelihood of a customer to churn, so that the business can take the necessary steps to retain the customer. While predicting the most likely customers to churn is a very important problem, it is also important to understand the reasons for the churn. This project aims to predict the likelihood of a customer to churn, and also understand the reasons for the churn by exploring the relationship between the existing variables and the churn. \n",
    "<br><br>\n",
    "\n",
    "#### Questions to be answered\n",
    "\n",
    "1) Based on the session logs, which users are most likely to churn? And can we have an automated model that predicts the churners on the fly?\n",
    "\n",
    "2) What factors are most important in predicting churn? \n",
    "\n",
    "#### Methodology & Limitations\n",
    "\n",
    "The project uses the following steps to answer the above questions:\n",
    "The first question can be answered by using a classification model to predict the churners.\n",
    "\n",
    "The second question requires more human cognition in the process because, no matter how much we avoid it, it's still in the domain of causality. Unless we fully take path of causal inference (which is a whole different field), we cannot say that a certain variable is the cause of the churn. In this project I will not using Directed Acyclic Graphs (DAGs) to understand the causal relationships between the variables. Instead, I will only focus on existing correlations between the variables and the churn and make speculations about the reasons for the churn.\n",
    "\n",
    "#### Evaluating the Success of the Project: Evaluation Metrics\n",
    "\n",
    "The two questions above require different approaches in terms of evaluating the success of the project.\n",
    " <br>\n",
    "As we will see in the exploration part of this notebook, the data is highly  **imbalanced** . Hence, accuracy is not a good metric to evaluate the success of the project. Because the accuracy with imbalanced data will be biased towards the majority class and make false promises about the model's performance.\n",
    "\n",
    "Instead, we will use the **F1 score** as the evaluation metric. The F1 score is the harmonic mean of precision and recall. It is a good metric to use when the data is imbalanced. <br>\n",
    "\n",
    "The evaluation for the second question is open ended and I will use my argumentation skills to make an account on the reasons for the churn. Just like in the industry, when it comes to evaluating the success of a qualitative task, it is up to the audience to decide whether the task was successful or not. <br>\n",
    " \n",
    " <br><br>\n"
   ]
  },
  {
   "attachments": {},
   "cell_type": "markdown",
   "metadata": {},
   "source": [
    "##  <a name=\"cleaning\"></a>Initializing The Notebook"
   ]
  },
  {
   "attachments": {},
   "cell_type": "markdown",
   "metadata": {},
   "source": [
    "Below I am just going to initialize the notebook. Note here that my S3 bucket is not the one provided by Udacity. I created my own S3 bucket and uploaded the data there. Because after the clustering I added the cluster column to the dataset and uploaded it to my S3 bucket. I will use the new dataset in the rest of the notebook.\n",
    "\n",
    "It could have been handled completely on the cloud, but I wanted to use the musicbrainz API to get the genres of the artists. And the API call takes so much time. This extra time on building would have been extremely costly on the cloud. In the future, I will try to come up with different solutions. But for now, this is the middle ground I found. Plus, it required me to work with my own S3 bucket, which is a good experience to have."
   ]
  },
  {
   "cell_type": "code",
   "execution_count": null,
   "metadata": {},
   "outputs": [],
   "source": [
    "# SKIP HERE WHEN WORKING LOCALLY\n",
    "# Starter code\n",
    "from pyspark.sql import SparkSession\n",
    "\n",
    "# Create spark session\n",
    "spark = SparkSession \\\n",
    "    .builder \\\n",
    "    .appName(\"Sparkify\") \\\n",
    "    .getOrCreate()\n",
    "\n",
    "# Read in full sparkify dataset\n",
    "event_data = \"s3://udacitysparkify/final_df.json\"\n",
    "df = spark.read.json(event_data)"
   ]
  },
  {
   "attachments": {},
   "cell_type": "markdown",
   "metadata": {},
   "source": [
    "here I will import the libraries that I am going to use in this project. I will also create a Spark session.\n"
   ]
  },
  {
   "cell_type": "code",
   "execution_count": 1,
   "metadata": {},
   "outputs": [],
   "source": [
    "# Installing the Spark libraries\n",
    "from pyspark.sql import SparkSession, Window\n",
    "from pyspark.sql.functions import avg, stddev, split, udf, isnull, first, col, format_number, rand, when\n",
    "from pyspark.sql.functions import min as fmin\n",
    "from pyspark.sql.functions import max as fmax\n",
    "from pyspark.sql.functions import count as fcount\n",
    "from pyspark.sql.functions import sum as fsum\n",
    "from pyspark.sql.functions import datediff\n",
    "from pyspark.sql.functions import countDistinct\n",
    "from pyspark.sql.types import IntegerType, FloatType, StringType, StructField, StructType\n",
    "\n",
    "\n",
    "\n",
    "# Installing Spark ML libraries\n",
    "from pyspark.ml import Pipeline\n",
    "from pyspark.ml.classification import LogisticRegression, DecisionTreeClassifier,RandomForestClassifier, LinearSVC, GBTClassifier\n",
    "from pyspark.ml.feature import StandardScaler, VectorAssembler\n",
    "from pyspark.ml.evaluation import MulticlassClassificationEvaluator\n",
    "from pyspark.mllib.evaluation import MulticlassMetrics\n",
    "from pyspark.ml.tuning import CrossValidator, ParamGridBuilder\n",
    "#pyspark label encoder\n",
    "\n",
    "\n",
    "# Installing python data science libraries\n",
    "import re\n",
    "import time\n",
    "import datetime\n",
    "import numpy as np\n",
    "import pandas as pd\n",
    "import seaborn as sns\n",
    "import matplotlib.pyplot as plt\n",
    "\n",
    "from sklearn.preprocessing import LabelEncoder\n",
    "\n",
    "\n",
    "%matplotlib inline"
   ]
  },
  {
   "cell_type": "code",
   "execution_count": 2,
   "metadata": {},
   "outputs": [],
   "source": [
    "# set color palette for all plots\n",
    "sns.set_palette(\"Set2\")\n",
    "# set style for all plots\n",
    "sns.set_style(\"whitegrid\")"
   ]
  },
  {
   "cell_type": "code",
   "execution_count": 3,
   "metadata": {},
   "outputs": [
    {
     "name": "stderr",
     "output_type": "stream",
     "text": [
      "Setting default log level to \"WARN\".\n",
      "To adjust logging level use sc.setLogLevel(newLevel). For SparkR, use setLogLevel(newLevel).\n"
     ]
    },
    {
     "name": "stdout",
     "output_type": "stream",
     "text": [
      "23/01/01 11:36:10 WARN NativeCodeLoader: Unable to load native-hadoop library for your platform... using builtin-java classes where applicable\n"
     ]
    }
   ],
   "source": [
    "# create a Spark session\n",
    "spark = SparkSession.builder.appName('Sparkify_local').getOrCreate()"
   ]
  },
  {
   "attachments": {},
   "cell_type": "markdown",
   "metadata": {},
   "source": [
    "Check the Schema of the dataset"
   ]
  },
  {
   "cell_type": "code",
   "execution_count": 4,
   "metadata": {},
   "outputs": [
    {
     "name": "stderr",
     "output_type": "stream",
     "text": [
      "                                                                                \r"
     ]
    }
   ],
   "source": [
    "# USE THIS WHEN WORKING LOCAL INSTEAD OF EMR CLUSTER\n",
    "df = spark.read.json('data/final_df.json')"
   ]
  },
  {
   "cell_type": "code",
   "execution_count": 5,
   "metadata": {},
   "outputs": [
    {
     "name": "stdout",
     "output_type": "stream",
     "text": [
      "root\n",
      " |-- artist: string (nullable = true)\n",
      " |-- auth: string (nullable = true)\n",
      " |-- churn: long (nullable = true)\n",
      " |-- cluster: long (nullable = true)\n",
      " |-- firstName: string (nullable = true)\n",
      " |-- gender: string (nullable = true)\n",
      " |-- itemInSession: long (nullable = true)\n",
      " |-- lastName: string (nullable = true)\n",
      " |-- length: double (nullable = true)\n",
      " |-- level: string (nullable = true)\n",
      " |-- location: string (nullable = true)\n",
      " |-- method: string (nullable = true)\n",
      " |-- page: string (nullable = true)\n",
      " |-- registration: double (nullable = true)\n",
      " |-- sessionId: long (nullable = true)\n",
      " |-- song: string (nullable = true)\n",
      " |-- status: long (nullable = true)\n",
      " |-- ts: long (nullable = true)\n",
      " |-- userAgent: string (nullable = true)\n",
      " |-- userId: string (nullable = true)\n",
      "\n"
     ]
    }
   ],
   "source": [
    "df.printSchema()"
   ]
  },
  {
   "attachments": {},
   "cell_type": "markdown",
   "metadata": {},
   "source": [
    "Honestly speaking I don't know about all of the columns in the dataset. But I guess I can infer most of them from the way they are named.\n",
    "\n",
    "* **artist** : name of the artist\n",
    "* **auth** : authentication status of the user\n",
    "* **firstName** : first name of the user\n",
    "* **gender** : gender of the user\n",
    "* **ItemInSession** : IMO, the number of items in a particular session\n",
    "* **lastName** : last name of the user\n",
    "* **length** : length of each session by the user\n",
    "* **level** : subscription type of the user. Can be free or paid\n",
    "* **location** : location data of the user.\n",
    "* **page** : the page the user is on in the app\n",
    "* **song** : name of the song\n",
    "* **ts** : the timestamp indicating when the logged activity took place\n",
    "* **userAgent** : classic metadata about the user's device, browser, etc.\n",
    "* **userId** : auto generated ID of the user to mark them uniquely"
   ]
  },
  {
   "cell_type": "code",
   "execution_count": 6,
   "metadata": {},
   "outputs": [
    {
     "name": "stderr",
     "output_type": "stream",
     "text": [
      "[Stage 1:>                                                          (0 + 8) / 8]\r"
     ]
    },
    {
     "name": "stdout",
     "output_type": "stream",
     "text": [
      "Number of rows:  288404\n"
     ]
    },
    {
     "name": "stderr",
     "output_type": "stream",
     "text": [
      "                                                                                \r"
     ]
    }
   ],
   "source": [
    "# show count of rows and print it \n",
    "print(\"Number of rows: \", df.count())"
   ]
  },
  {
   "cell_type": "code",
   "execution_count": 7,
   "metadata": {},
   "outputs": [
    {
     "name": "stderr",
     "output_type": "stream",
     "text": [
      "[Stage 4:============================================>              (6 + 2) / 8]\r"
     ]
    },
    {
     "name": "stdout",
     "output_type": "stream",
     "text": [
      "Number of unique userId:  226\n"
     ]
    },
    {
     "name": "stderr",
     "output_type": "stream",
     "text": [
      "                                                                                \r"
     ]
    }
   ],
   "source": [
    "# show unique number of userId\n",
    "print(\"Number of unique userId: \", df.select('userId').distinct().count())"
   ]
  },
  {
   "cell_type": "code",
   "execution_count": 8,
   "metadata": {},
   "outputs": [
    {
     "name": "stdout",
     "output_type": "stream",
     "text": [
      "Values of status:  [Row(status=307), Row(status=404), Row(status=200)]\n"
     ]
    }
   ],
   "source": [
    "# show values of status\n",
    "print(\"Values of status: \", df.select('status').distinct().collect())\n"
   ]
  },
  {
   "attachments": {},
   "cell_type": "markdown",
   "metadata": {},
   "source": [
    "Now I want to take a peek at the missingness. In order to shorten the time spent on this task I'll write a function that takes a dataframe and returns a dataframe with the number of missing values in each column and the percentage of missing values in each column."
   ]
  },
  {
   "cell_type": "code",
   "execution_count": 9,
   "metadata": {},
   "outputs": [],
   "source": [
    "# tabulate missing values\n",
    "def missing_values_table(df):\n",
    "    # Total missing values\n",
    "    mis_val = df.isnull().sum()\n",
    "    \n",
    "    # Percentage of missing values\n",
    "    mis_val_percent = 100 * df.isnull().sum() / len(df)\n",
    "    \n",
    "    # Make a table with the results\n",
    "    mis_val_table = pd.concat([mis_val, mis_val_percent], axis=1)\n",
    "    \n",
    "    # Rename the columns\n",
    "    mis_val_table_ren_columns = mis_val_table.rename(\n",
    "    columns = {0 : 'Missing Values', 1 : '% of Total Values'})\n",
    "    \n",
    "    # Sort the table by percentage of missing descending\n",
    "    mis_val_table_ren_columns = mis_val_table_ren_columns[\n",
    "        mis_val_table_ren_columns.iloc[:,1] != 0].sort_values(\n",
    "    '% of Total Values', ascending=False).round(1)\n",
    "    \n",
    "    # Print some summary information\n",
    "    print (\"Selected dataframe has \" + str(df.shape[1]) + \" columns.\\n\"      \n",
    "        \"There are \" + str(mis_val_table_ren_columns.shape[0]) +\n",
    "          \" columns that have missing values.\")\n",
    "    \n",
    "    # Return the dataframe with missing information\n",
    "    return mis_val_table_ren_columns\n",
    "\n",
    "# make use of the function by making udf\n",
    "missing_values_table_udf = udf(missing_values_table, IntegerType())"
   ]
  },
  {
   "cell_type": "code",
   "execution_count": 10,
   "metadata": {},
   "outputs": [
    {
     "name": "stderr",
     "output_type": "stream",
     "text": [
      "                                                                                \r"
     ]
    },
    {
     "name": "stdout",
     "output_type": "stream",
     "text": [
      "Selected dataframe has 20 columns.\n",
      "There are 9 columns that have missing values.\n"
     ]
    },
    {
     "data": {
      "text/html": [
       "<div>\n",
       "<style scoped>\n",
       "    .dataframe tbody tr th:only-of-type {\n",
       "        vertical-align: middle;\n",
       "    }\n",
       "\n",
       "    .dataframe tbody tr th {\n",
       "        vertical-align: top;\n",
       "    }\n",
       "\n",
       "    .dataframe thead th {\n",
       "        text-align: right;\n",
       "    }\n",
       "</style>\n",
       "<table border=\"1\" class=\"dataframe\">\n",
       "  <thead>\n",
       "    <tr style=\"text-align: right;\">\n",
       "      <th></th>\n",
       "      <th>Missing Values</th>\n",
       "      <th>% of Total Values</th>\n",
       "    </tr>\n",
       "  </thead>\n",
       "  <tbody>\n",
       "    <tr>\n",
       "      <th>artist</th>\n",
       "      <td>58392</td>\n",
       "      <td>20.2</td>\n",
       "    </tr>\n",
       "    <tr>\n",
       "      <th>length</th>\n",
       "      <td>58392</td>\n",
       "      <td>20.2</td>\n",
       "    </tr>\n",
       "    <tr>\n",
       "      <th>song</th>\n",
       "      <td>58392</td>\n",
       "      <td>20.2</td>\n",
       "    </tr>\n",
       "    <tr>\n",
       "      <th>firstName</th>\n",
       "      <td>8346</td>\n",
       "      <td>2.9</td>\n",
       "    </tr>\n",
       "    <tr>\n",
       "      <th>gender</th>\n",
       "      <td>8346</td>\n",
       "      <td>2.9</td>\n",
       "    </tr>\n",
       "    <tr>\n",
       "      <th>lastName</th>\n",
       "      <td>8346</td>\n",
       "      <td>2.9</td>\n",
       "    </tr>\n",
       "    <tr>\n",
       "      <th>location</th>\n",
       "      <td>8346</td>\n",
       "      <td>2.9</td>\n",
       "    </tr>\n",
       "    <tr>\n",
       "      <th>registration</th>\n",
       "      <td>8346</td>\n",
       "      <td>2.9</td>\n",
       "    </tr>\n",
       "    <tr>\n",
       "      <th>userAgent</th>\n",
       "      <td>8346</td>\n",
       "      <td>2.9</td>\n",
       "    </tr>\n",
       "  </tbody>\n",
       "</table>\n",
       "</div>"
      ],
      "text/plain": [
       "              Missing Values  % of Total Values\n",
       "artist                 58392               20.2\n",
       "length                 58392               20.2\n",
       "song                   58392               20.2\n",
       "firstName               8346                2.9\n",
       "gender                  8346                2.9\n",
       "lastName                8346                2.9\n",
       "location                8346                2.9\n",
       "registration            8346                2.9\n",
       "userAgent               8346                2.9"
      ]
     },
     "execution_count": 10,
     "metadata": {},
     "output_type": "execute_result"
    }
   ],
   "source": [
    "# tabulate missing values\n",
    "missing_values_table(df.toPandas())"
   ]
  },
  {
   "attachments": {},
   "cell_type": "markdown",
   "metadata": {},
   "source": [
    "Seems like there are two types of missingness. First, the song related missing values. They are 20 percent of the data. Second, the user related missing values. They are 3 percent of the data. I will deal with them separately."
   ]
  },
  {
   "cell_type": "code",
   "execution_count": 11,
   "metadata": {},
   "outputs": [
    {
     "name": "stderr",
     "output_type": "stream",
     "text": [
      "                                                                                \r"
     ]
    },
    {
     "data": {
      "text/html": [
       "<div>\n",
       "<style scoped>\n",
       "    .dataframe tbody tr th:only-of-type {\n",
       "        vertical-align: middle;\n",
       "    }\n",
       "\n",
       "    .dataframe tbody tr th {\n",
       "        vertical-align: top;\n",
       "    }\n",
       "\n",
       "    .dataframe thead th {\n",
       "        text-align: right;\n",
       "    }\n",
       "</style>\n",
       "<table border=\"1\" class=\"dataframe\">\n",
       "  <thead>\n",
       "    <tr style=\"text-align: right;\">\n",
       "      <th></th>\n",
       "      <th>artist</th>\n",
       "      <th>auth</th>\n",
       "      <th>churn</th>\n",
       "      <th>cluster</th>\n",
       "      <th>firstName</th>\n",
       "      <th>gender</th>\n",
       "      <th>itemInSession</th>\n",
       "      <th>lastName</th>\n",
       "      <th>length</th>\n",
       "      <th>level</th>\n",
       "      <th>location</th>\n",
       "      <th>method</th>\n",
       "      <th>page</th>\n",
       "      <th>registration</th>\n",
       "      <th>sessionId</th>\n",
       "      <th>song</th>\n",
       "      <th>status</th>\n",
       "      <th>ts</th>\n",
       "      <th>userAgent</th>\n",
       "      <th>userId</th>\n",
       "    </tr>\n",
       "  </thead>\n",
       "  <tbody>\n",
       "    <tr>\n",
       "      <th>29637</th>\n",
       "      <td>None</td>\n",
       "      <td>Logged In</td>\n",
       "      <td>0</td>\n",
       "      <td>0</td>\n",
       "      <td>Sebastian</td>\n",
       "      <td>M</td>\n",
       "      <td>14</td>\n",
       "      <td>Wang</td>\n",
       "      <td>NaN</td>\n",
       "      <td>paid</td>\n",
       "      <td>Jackson, MS</td>\n",
       "      <td>GET</td>\n",
       "      <td>Downgrade</td>\n",
       "      <td>1.538050e+12</td>\n",
       "      <td>1807</td>\n",
       "      <td>None</td>\n",
       "      <td>200</td>\n",
       "      <td>1542062586000</td>\n",
       "      <td>\"Mozilla/5.0 (Macintosh; Intel Mac OS X 10_9_2...</td>\n",
       "      <td>53</td>\n",
       "    </tr>\n",
       "    <tr>\n",
       "      <th>21545</th>\n",
       "      <td>None</td>\n",
       "      <td>Logged In</td>\n",
       "      <td>0</td>\n",
       "      <td>0</td>\n",
       "      <td>Alexi</td>\n",
       "      <td>F</td>\n",
       "      <td>64</td>\n",
       "      <td>Warren</td>\n",
       "      <td>NaN</td>\n",
       "      <td>paid</td>\n",
       "      <td>Spokane-Spokane Valley, WA</td>\n",
       "      <td>PUT</td>\n",
       "      <td>Thumbs Up</td>\n",
       "      <td>1.532483e+12</td>\n",
       "      <td>1468</td>\n",
       "      <td>None</td>\n",
       "      <td>307</td>\n",
       "      <td>1541012447000</td>\n",
       "      <td>Mozilla/5.0 (Windows NT 6.1; WOW64; rv:32.0) G...</td>\n",
       "      <td>54</td>\n",
       "    </tr>\n",
       "    <tr>\n",
       "      <th>16086</th>\n",
       "      <td>None</td>\n",
       "      <td>Logged In</td>\n",
       "      <td>0</td>\n",
       "      <td>0</td>\n",
       "      <td>Warren</td>\n",
       "      <td>M</td>\n",
       "      <td>213</td>\n",
       "      <td>Miller</td>\n",
       "      <td>NaN</td>\n",
       "      <td>paid</td>\n",
       "      <td>Baltimore-Columbia-Towson, MD</td>\n",
       "      <td>PUT</td>\n",
       "      <td>Logout</td>\n",
       "      <td>1.538170e+12</td>\n",
       "      <td>1128</td>\n",
       "      <td>None</td>\n",
       "      <td>307</td>\n",
       "      <td>1540345784000</td>\n",
       "      <td>Mozilla/5.0 (Windows NT 6.0; rv:31.0) Gecko/20...</td>\n",
       "      <td>4</td>\n",
       "    </tr>\n",
       "  </tbody>\n",
       "</table>\n",
       "</div>"
      ],
      "text/plain": [
       "      artist       auth  churn  cluster  firstName gender  itemInSession  \\\n",
       "29637   None  Logged In      0        0  Sebastian      M             14   \n",
       "21545   None  Logged In      0        0      Alexi      F             64   \n",
       "16086   None  Logged In      0        0     Warren      M            213   \n",
       "\n",
       "      lastName  length level                       location method       page  \\\n",
       "29637     Wang     NaN  paid                    Jackson, MS    GET  Downgrade   \n",
       "21545   Warren     NaN  paid     Spokane-Spokane Valley, WA    PUT  Thumbs Up   \n",
       "16086   Miller     NaN  paid  Baltimore-Columbia-Towson, MD    PUT     Logout   \n",
       "\n",
       "       registration  sessionId  song  status             ts  \\\n",
       "29637  1.538050e+12       1807  None     200  1542062586000   \n",
       "21545  1.532483e+12       1468  None     307  1541012447000   \n",
       "16086  1.538170e+12       1128  None     307  1540345784000   \n",
       "\n",
       "                                               userAgent userId  \n",
       "29637  \"Mozilla/5.0 (Macintosh; Intel Mac OS X 10_9_2...     53  \n",
       "21545  Mozilla/5.0 (Windows NT 6.1; WOW64; rv:32.0) G...     54  \n",
       "16086  Mozilla/5.0 (Windows NT 6.0; rv:31.0) Gecko/20...      4  "
      ]
     },
     "execution_count": 11,
     "metadata": {},
     "output_type": "execute_result"
    }
   ],
   "source": [
    "# filter the part of the data where song name is missing and sample 3 rows\n",
    "df.filter(df.song.isNull()).toPandas().sample(3)"
   ]
  },
  {
   "cell_type": "code",
   "execution_count": 12,
   "metadata": {},
   "outputs": [
    {
     "data": {
      "text/html": [
       "<div>\n",
       "<style scoped>\n",
       "    .dataframe tbody tr th:only-of-type {\n",
       "        vertical-align: middle;\n",
       "    }\n",
       "\n",
       "    .dataframe tbody tr th {\n",
       "        vertical-align: top;\n",
       "    }\n",
       "\n",
       "    .dataframe thead th {\n",
       "        text-align: right;\n",
       "    }\n",
       "</style>\n",
       "<table border=\"1\" class=\"dataframe\">\n",
       "  <thead>\n",
       "    <tr style=\"text-align: right;\">\n",
       "      <th></th>\n",
       "      <th>artist</th>\n",
       "      <th>auth</th>\n",
       "      <th>churn</th>\n",
       "      <th>cluster</th>\n",
       "      <th>firstName</th>\n",
       "      <th>gender</th>\n",
       "      <th>itemInSession</th>\n",
       "      <th>lastName</th>\n",
       "      <th>length</th>\n",
       "      <th>level</th>\n",
       "      <th>location</th>\n",
       "      <th>method</th>\n",
       "      <th>page</th>\n",
       "      <th>registration</th>\n",
       "      <th>sessionId</th>\n",
       "      <th>song</th>\n",
       "      <th>status</th>\n",
       "      <th>ts</th>\n",
       "      <th>userAgent</th>\n",
       "      <th>userId</th>\n",
       "    </tr>\n",
       "  </thead>\n",
       "  <tbody>\n",
       "    <tr>\n",
       "      <th>4482</th>\n",
       "      <td>None</td>\n",
       "      <td>Logged Out</td>\n",
       "      <td>0</td>\n",
       "      <td>0</td>\n",
       "      <td>None</td>\n",
       "      <td>None</td>\n",
       "      <td>6</td>\n",
       "      <td>None</td>\n",
       "      <td>NaN</td>\n",
       "      <td>free</td>\n",
       "      <td>None</td>\n",
       "      <td>PUT</td>\n",
       "      <td>Login</td>\n",
       "      <td>NaN</td>\n",
       "      <td>1921</td>\n",
       "      <td>None</td>\n",
       "      <td>307</td>\n",
       "      <td>1542183751000</td>\n",
       "      <td>None</td>\n",
       "      <td></td>\n",
       "    </tr>\n",
       "    <tr>\n",
       "      <th>1814</th>\n",
       "      <td>None</td>\n",
       "      <td>Logged Out</td>\n",
       "      <td>0</td>\n",
       "      <td>0</td>\n",
       "      <td>None</td>\n",
       "      <td>None</td>\n",
       "      <td>384</td>\n",
       "      <td>None</td>\n",
       "      <td>NaN</td>\n",
       "      <td>paid</td>\n",
       "      <td>None</td>\n",
       "      <td>GET</td>\n",
       "      <td>Home</td>\n",
       "      <td>NaN</td>\n",
       "      <td>901</td>\n",
       "      <td>None</td>\n",
       "      <td>200</td>\n",
       "      <td>1539872781000</td>\n",
       "      <td>None</td>\n",
       "      <td></td>\n",
       "    </tr>\n",
       "    <tr>\n",
       "      <th>1025</th>\n",
       "      <td>None</td>\n",
       "      <td>Logged Out</td>\n",
       "      <td>0</td>\n",
       "      <td>0</td>\n",
       "      <td>None</td>\n",
       "      <td>None</td>\n",
       "      <td>181</td>\n",
       "      <td>None</td>\n",
       "      <td>NaN</td>\n",
       "      <td>paid</td>\n",
       "      <td>None</td>\n",
       "      <td>PUT</td>\n",
       "      <td>Login</td>\n",
       "      <td>NaN</td>\n",
       "      <td>602</td>\n",
       "      <td>None</td>\n",
       "      <td>307</td>\n",
       "      <td>1539210806000</td>\n",
       "      <td>None</td>\n",
       "      <td></td>\n",
       "    </tr>\n",
       "  </tbody>\n",
       "</table>\n",
       "</div>"
      ],
      "text/plain": [
       "     artist        auth  churn  cluster firstName gender  itemInSession  \\\n",
       "4482   None  Logged Out      0        0      None   None              6   \n",
       "1814   None  Logged Out      0        0      None   None            384   \n",
       "1025   None  Logged Out      0        0      None   None            181   \n",
       "\n",
       "     lastName  length level location method   page  registration  sessionId  \\\n",
       "4482     None     NaN  free     None    PUT  Login           NaN       1921   \n",
       "1814     None     NaN  paid     None    GET   Home           NaN        901   \n",
       "1025     None     NaN  paid     None    PUT  Login           NaN        602   \n",
       "\n",
       "      song  status             ts userAgent userId  \n",
       "4482  None     307  1542183751000      None         \n",
       "1814  None     200  1539872781000      None         \n",
       "1025  None     307  1539210806000      None         "
      ]
     },
     "execution_count": 12,
     "metadata": {},
     "output_type": "execute_result"
    }
   ],
   "source": [
    "# filter the part of the data where firstName is missing and sample 3 rows\n",
    "df.filter(df.firstName.isNull()).toPandas().sample(3)"
   ]
  },
  {
   "attachments": {},
   "cell_type": "markdown",
   "metadata": {},
   "source": [
    "From here on, I will focus on part of the dataframe where the user info is known. "
   ]
  },
  {
   "cell_type": "code",
   "execution_count": 13,
   "metadata": {},
   "outputs": [],
   "source": [
    "df_user = df.filter(df['userId'] != '')"
   ]
  },
  {
   "cell_type": "code",
   "execution_count": 14,
   "metadata": {},
   "outputs": [],
   "source": [
    "# Convert timestamp format to a recognizable datetime format\n",
    "ts_todate = udf(lambda x: datetime.datetime.fromtimestamp(x/1000.0).strftime('%Y-%m-%d %H:%M:%S'))\n",
    "\n",
    "df_user = df_user.withColumn('fulldate', ts_todate(df_user.ts))"
   ]
  },
  {
   "cell_type": "code",
   "execution_count": 15,
   "metadata": {},
   "outputs": [
    {
     "name": "stderr",
     "output_type": "stream",
     "text": [
      "[Stage 16:>                                                         (0 + 1) / 1]\r"
     ]
    },
    {
     "name": "stdout",
     "output_type": "stream",
     "text": [
      "+--------------+---------+-----+-------+---------+------+-------------+--------+---------+-----+---------------+------+--------+--------------+---------+---------+------+-------------+--------------------+------+-------------------+\n",
      "|        artist|     auth|churn|cluster|firstName|gender|itemInSession|lastName|   length|level|       location|method|    page|  registration|sessionId|     song|status|           ts|           userAgent|userId|           fulldate|\n",
      "+--------------+---------+-----+-------+---------+------+-------------+--------+---------+-----+---------------+------+--------+--------------+---------+---------+------+-------------+--------------------+------+-------------------+\n",
      "|martha tilston|Logged In|    0|      0|    Colin|     M|           50| Freeman|277.89016| paid|Bakersfield, CA|   PUT|NextSong|1.538173362E12|       29|Rockpools|   200|1538352117000|Mozilla/5.0 (Wind...|    30|2018-10-01 02:01:57|\n",
      "+--------------+---------+-----+-------+---------+------+-------------+--------+---------+-----+---------------+------+--------+--------------+---------+---------+------+-------------+--------------------+------+-------------------+\n",
      "only showing top 1 row\n",
      "\n"
     ]
    },
    {
     "name": "stderr",
     "output_type": "stream",
     "text": [
      "                                                                                \r"
     ]
    }
   ],
   "source": [
    "df_user.show(1)"
   ]
  },
  {
   "cell_type": "code",
   "execution_count": 16,
   "metadata": {},
   "outputs": [],
   "source": [
    "df_user.createOrReplaceTempView('user_table')"
   ]
  },
  {
   "attachments": {},
   "cell_type": "markdown",
   "metadata": {},
   "source": [
    "# <a name=\"EDA\"></a>Exploratory Data Analysis\n",
    "This is for me the most important part of this notebook. First, it will serve the purposes for the first question by exploring the relationship between the existing variables and the churn so that I can build a better model to predict the churners. Second, it will help me make better and empirically grounded arguments about the reasons for the churn which is my answer to the second question.\n",
    "<br>\n",
    "\n",
    "Before making any inferences about the data, I will first check the data for any missing values. If there are any missing values, I will drop them. I will also check for any duplicates and drop them as well. <br>\n",
    "\n",
    "In the later parts of the exploration we will have tabulations and plots. But let's first start with some basic descriptive statistics."
   ]
  },
  {
   "cell_type": "code",
   "execution_count": 17,
   "metadata": {},
   "outputs": [
    {
     "name": "stdout",
     "output_type": "stream",
     "text": [
      "+---------+---------+\n",
      "|     auth|num_users|\n",
      "+---------+---------+\n",
      "|Logged In|      225|\n",
      "|Cancelled|       52|\n",
      "+---------+---------+\n",
      "\n"
     ]
    }
   ],
   "source": [
    "# cross-tab auth and user\n",
    "spark.sql('''\n",
    "        SELECT auth, count(DISTINCT userID) as num_users\n",
    "        FROM user_table\n",
    "        GROUP BY auth\n",
    "        ORDER BY num_users DESC\n",
    "''').show()"
   ]
  },
  {
   "attachments": {},
   "cell_type": "markdown",
   "metadata": {},
   "source": [
    "Now the same for the cluster column."
   ]
  },
  {
   "cell_type": "code",
   "execution_count": 18,
   "metadata": {},
   "outputs": [
    {
     "name": "stderr",
     "output_type": "stream",
     "text": [
      "[Stage 23:====================================>                     (5 + 3) / 8]\r"
     ]
    },
    {
     "name": "stdout",
     "output_type": "stream",
     "text": [
      "+-------+---------+\n",
      "|cluster|num_users|\n",
      "+-------+---------+\n",
      "|      0|      225|\n",
      "|      1|      223|\n",
      "|      2|      223|\n",
      "+-------+---------+\n",
      "\n"
     ]
    },
    {
     "name": "stderr",
     "output_type": "stream",
     "text": [
      "                                                                                \r"
     ]
    }
   ],
   "source": [
    "# cross-tab cluster and user\n",
    "spark.sql('''\n",
    "        SELECT cluster, count(DISTINCT userID) as num_users\n",
    "        FROM user_table\n",
    "        GROUP BY cluster\n",
    "        ORDER BY num_users DESC\n",
    "''').show()"
   ]
  },
  {
   "cell_type": "code",
   "execution_count": 19,
   "metadata": {},
   "outputs": [
    {
     "name": "stderr",
     "output_type": "stream",
     "text": [
      "[Stage 29:=======>                                                  (1 + 7) / 8]\r"
     ]
    },
    {
     "name": "stdout",
     "output_type": "stream",
     "text": [
      "+-----+-------+---------+\n",
      "|churn|cluster|num_users|\n",
      "+-----+-------+---------+\n",
      "|    0|      0|      225|\n",
      "|    0|      1|      223|\n",
      "|    0|      2|      223|\n",
      "|    1|      0|       52|\n",
      "+-----+-------+---------+\n",
      "\n"
     ]
    },
    {
     "name": "stderr",
     "output_type": "stream",
     "text": [
      "                                                                                \r"
     ]
    }
   ],
   "source": [
    "# cross-tab churn and cluster\n",
    "spark.sql('''\n",
    "        SELECT churn, cluster, count(DISTINCT userID) as num_users\n",
    "        FROM user_table\n",
    "        GROUP BY churn, cluster\n",
    "        ORDER BY num_users DESC\n",
    "''').show()"
   ]
  },
  {
   "cell_type": "code",
   "execution_count": 20,
   "metadata": {},
   "outputs": [
    {
     "name": "stderr",
     "output_type": "stream",
     "text": [
      "[Stage 35:=======>                                                  (1 + 7) / 8]\r"
     ]
    },
    {
     "name": "stdout",
     "output_type": "stream",
     "text": [
      "+------+-------+---------+\n",
      "|gender|cluster|num_users|\n",
      "+------+-------+---------+\n",
      "|     M|      0|      121|\n",
      "|     M|      1|      120|\n",
      "|     M|      2|      119|\n",
      "|     F|      0|      104|\n",
      "|     F|      2|      104|\n",
      "|     F|      1|      103|\n",
      "+------+-------+---------+\n",
      "\n"
     ]
    },
    {
     "name": "stderr",
     "output_type": "stream",
     "text": [
      "                                                                                \r"
     ]
    }
   ],
   "source": [
    "# cross-tab gender and cluster\n",
    "spark.sql('''\n",
    "        SELECT gender, cluster, count(DISTINCT userID) as num_users\n",
    "        FROM user_table\n",
    "        GROUP BY gender, cluster\n",
    "        ORDER BY num_users DESC\n",
    "''').show()"
   ]
  },
  {
   "cell_type": "code",
   "execution_count": 21,
   "metadata": {},
   "outputs": [],
   "source": [
    "length_session = spark.sql('''\n",
    "                        SELECT length\n",
    "                        FROM user_table\n",
    "                                                    ''')"
   ]
  },
  {
   "cell_type": "code",
   "execution_count": 22,
   "metadata": {},
   "outputs": [
    {
     "data": {
      "image/png": "[encoded data removed]",
      "text/plain": [
       "<Figure size 640x480 with 1 Axes>"
      ]
     },
     "metadata": {},
     "output_type": "display_data"
    }
   ],
   "source": [
    "sns.histplot(length_session.toPandas().dropna());\n",
    "# truncate the length of X axis to 1000\n",
    "plt.xlim(0, 1000)\n",
    "# mark the mean of the distribution\n",
    "plt.axvline(length_session.agg({'length':'mean'}).collect()[0][0], color='pink', linestyle='dashed', linewidth=2)\n",
    "plt.title('Session length distribution.');\n",
    "# adjust legend color to match the the bars\n",
    "plt.legend(['mean', 'bars']);\n",
    "# title the plot\n",
    "plt.xlabel('Session length (seconds)')\n",
    "# save the plot\n",
    "plt.savefig('img/session_length_distribution.png')"
   ]
  },
  {
   "cell_type": "code",
   "execution_count": 23,
   "metadata": {},
   "outputs": [],
   "source": [
    "# Command to find out the status of the user's subsciptions, encoded in the variable `level`\n",
    "levels = spark.sql('''\n",
    "        SELECT level, count(DISTINCT userId) as num_users\n",
    "        FROM user_table\n",
    "        GROUP BY level\n",
    "        ORDER BY num_users DESC\n",
    "        ''')"
   ]
  },
  {
   "cell_type": "code",
   "execution_count": 24,
   "metadata": {},
   "outputs": [
    {
     "name": "stderr",
     "output_type": "stream",
     "text": [
      "                                                                                \r"
     ]
    },
    {
     "data": {
      "image/png": "[encoded data removed]",
      "text/plain": [
       "<Figure size 640x480 with 1 Axes>"
      ]
     },
     "metadata": {},
     "output_type": "display_data"
    }
   ],
   "source": [
    "# plot levels\n",
    "sns.barplot(x='level', y='num_users', data=levels.toPandas())\n",
    "plt.title('Number of users per subscription level');\n",
    "# save the plot\n",
    "plt.savefig('img/num_users_per_subscription_level.png')"
   ]
  },
  {
   "cell_type": "code",
   "execution_count": 25,
   "metadata": {},
   "outputs": [
    {
     "name": "stderr",
     "output_type": "stream",
     "text": [
      "                                                                                \r"
     ]
    },
    {
     "data": {
      "image/png": "[encoded data removed]",
      "text/plain": [
       "<Figure size 640x480 with 1 Axes>"
      ]
     },
     "metadata": {},
     "output_type": "display_data"
    }
   ],
   "source": [
    "# get locations, their count and split it into city and state and plot\n",
    "#  the top 10 cities\n",
    "locations = spark.sql('''\n",
    "        SELECT location, count(DISTINCT userId) as num_users\n",
    "        FROM user_table\n",
    "        GROUP BY location\n",
    "        ORDER BY num_users DESC\n",
    "        ''').toPandas()\n",
    "# expand locations into city and state while preserving the num_users\n",
    "expanded_locations = locations.location.str.split(',', expand=True)\n",
    "expanded_locations.columns = ['city', 'state']\n",
    "expanded_locations['num_users'] = locations.num_users\n",
    "# plot the top 10 cities\n",
    "expanded_locations.city.value_counts().head(10).plot(kind='barh')\n",
    "plt.title('Top 10 cities');\n",
    "# save the plot\n",
    "plt.savefig('img/top_10_cities.png')\n",
    "#expanded_locations.city.value_counts().head(10).plot(kind='barh')\n",
    "## save the plot\n",
    "#plt.savefig('img/top_10_cities.png')\n"
   ]
  },
  {
   "cell_type": "code",
   "execution_count": 26,
   "metadata": {},
   "outputs": [
    {
     "data": {
      "image/png": "[encoded data removed]",
      "text/plain": [
       "<Figure size 640x480 with 1 Axes>"
      ]
     },
     "metadata": {},
     "output_type": "display_data"
    }
   ],
   "source": [
    "# get the top 10 states\n",
    "expanded_locations.state.value_counts().head(10).plot(kind='barh')\n",
    "# title the plot\n",
    "plt.title('Top 10 states');\n",
    "# save the plot\n",
    "plt.savefig('img/top_10_states.png')"
   ]
  },
  {
   "cell_type": "code",
   "execution_count": 27,
   "metadata": {},
   "outputs": [
    {
     "data": {
      "text/html": [
       "<div>\n",
       "<style scoped>\n",
       "    .dataframe tbody tr th:only-of-type {\n",
       "        vertical-align: middle;\n",
       "    }\n",
       "\n",
       "    .dataframe tbody tr th {\n",
       "        vertical-align: top;\n",
       "    }\n",
       "\n",
       "    .dataframe thead th {\n",
       "        text-align: right;\n",
       "    }\n",
       "</style>\n",
       "<table border=\"1\" class=\"dataframe\">\n",
       "  <thead>\n",
       "    <tr style=\"text-align: right;\">\n",
       "      <th></th>\n",
       "      <th>city</th>\n",
       "      <th>state</th>\n",
       "      <th>num_users</th>\n",
       "    </tr>\n",
       "  </thead>\n",
       "  <tbody>\n",
       "    <tr>\n",
       "      <th>0</th>\n",
       "      <td>Los Angeles-Long Beach-Anaheim</td>\n",
       "      <td>CA</td>\n",
       "      <td>16</td>\n",
       "    </tr>\n",
       "    <tr>\n",
       "      <th>1</th>\n",
       "      <td>New York-Newark-Jersey City</td>\n",
       "      <td>NY-NJ-PA</td>\n",
       "      <td>15</td>\n",
       "    </tr>\n",
       "    <tr>\n",
       "      <th>2</th>\n",
       "      <td>Phoenix-Mesa-Scottsdale</td>\n",
       "      <td>AZ</td>\n",
       "      <td>7</td>\n",
       "    </tr>\n",
       "    <tr>\n",
       "      <th>3</th>\n",
       "      <td>Dallas-Fort Worth-Arlington</td>\n",
       "      <td>TX</td>\n",
       "      <td>7</td>\n",
       "    </tr>\n",
       "    <tr>\n",
       "      <th>4</th>\n",
       "      <td>St. Louis</td>\n",
       "      <td>MO-IL</td>\n",
       "      <td>6</td>\n",
       "    </tr>\n",
       "  </tbody>\n",
       "</table>\n",
       "</div>"
      ],
      "text/plain": [
       "                             city      state  num_users\n",
       "0  Los Angeles-Long Beach-Anaheim         CA         16\n",
       "1     New York-Newark-Jersey City   NY-NJ-PA         15\n",
       "2         Phoenix-Mesa-Scottsdale         AZ          7\n",
       "3     Dallas-Fort Worth-Arlington         TX          7\n",
       "4                       St. Louis      MO-IL          6"
      ]
     },
     "execution_count": 27,
     "metadata": {},
     "output_type": "execute_result"
    }
   ],
   "source": [
    "expanded_locations.head()"
   ]
  },
  {
   "cell_type": "code",
   "execution_count": 28,
   "metadata": {},
   "outputs": [
    {
     "data": {
      "image/png": "[encoded data removed]",
      "text/plain": [
       "<Figure size 640x480 with 1 Axes>"
      ]
     },
     "metadata": {},
     "output_type": "display_data"
    }
   ],
   "source": [
    "# get the total count of thumbs up and thumbs down\n",
    "thumbs = spark.sql('''\n",
    "        SELECT SUM(CASE WHEN page = 'Thumbs Up' THEN 1 ELSE 0 END) as thumbs_up,\n",
    "                SUM(CASE WHEN page = 'Thumbs Down' THEN 1 ELSE 0 END) as thumbs_down\n",
    "        FROM user_table\n",
    "        ''').toPandas()\n",
    "\n",
    "# plot the thumbs up and thumbs down\n",
    "sns.barplot(data=thumbs)\n",
    "# title the plot\n",
    "plt.title('Thumbs up vs. Thumbs down');\n",
    "# save the plot\n",
    "plt.savefig('img/thumbs_up_vs_thumbs_down.png')\n"
   ]
  },
  {
   "attachments": {},
   "cell_type": "markdown",
   "metadata": {},
   "source": [
    "The difference is huge between thumbs up and thumbs down. It seems like the users are more likely to give a thumbs up than a thumbs down. It's expected that happy users provide more interaction with the app than unhappy users. But the difference is huge. Now I wonder if thumbs down can be an indicator of churn."
   ]
  },
  {
   "cell_type": "code",
   "execution_count": 29,
   "metadata": {},
   "outputs": [
    {
     "data": {
      "image/png": "[encoded data removed]",
      "text/plain": [
       "<Figure size 640x480 with 1 Axes>"
      ]
     },
     "metadata": {},
     "output_type": "display_data"
    }
   ],
   "source": [
    "# check the relationship between thumbs down and churn and tabulate it\n",
    "churn_vs_thumb = spark.sql('''\n",
    "        SELECT churn, SUM(CASE WHEN page = 'Thumbs Down' THEN 1 ELSE 0 END) as thumbs_down\n",
    "        FROM user_table\n",
    "        GROUP BY churn\n",
    "        ''').toPandas()\n",
    "# plot the relationship\n",
    "sns.barplot(x='churn', y='thumbs_down', data=churn_vs_thumb)\n",
    "# title the plot\n",
    "plt.title('Thumbs down vs. Churn');\n",
    "# rename X axis elements as 'Churn' and 'No Churn'\n",
    "plt.xticks([0, 1], ['No Churn', 'Churn'])\n",
    "# save the plot\n",
    "plt.savefig('img/thumbs_down_vs_churn.png')\n"
   ]
  },
  {
   "attachments": {},
   "cell_type": "markdown",
   "metadata": {},
   "source": [
    "Well, I was afraid to see this. Because this means churn behaviour is so silent that churners don't even bother interacting."
   ]
  },
  {
   "cell_type": "code",
   "execution_count": 30,
   "metadata": {},
   "outputs": [],
   "source": [
    "# the user agent variable defines the mode by which the users viewed the product - browser and platforms.\n",
    "user_agents = spark.sql('''\n",
    "                        SELECT userAgent, count(DISTINCT userId) as num_users\n",
    "                        FROM user_table\n",
    "                        GROUP BY userAgent\n",
    "                        ORDER BY num_users DESC\n",
    "                        ''').toPandas()"
   ]
  },
  {
   "cell_type": "code",
   "execution_count": 31,
   "metadata": {},
   "outputs": [
    {
     "data": {
      "text/plain": [
       "56"
      ]
     },
     "execution_count": 31,
     "metadata": {},
     "output_type": "execute_result"
    }
   ],
   "source": [
    "user_agents['userAgent'].nunique()"
   ]
  },
  {
   "cell_type": "code",
   "execution_count": 32,
   "metadata": {},
   "outputs": [],
   "source": [
    "# infer user device from the userAgent column using sparksql and udf\n",
    "def get_device(userAgent):\n",
    "    '''\n",
    "    Returns the device used by the user based on the userAgent column.\n",
    "    \n",
    "    Parameters:\n",
    "    userAgent (str): the userAgent column\n",
    "    \n",
    "    Returns:\n",
    "    str: the device used by the user\n",
    "    \n",
    "    '''\n",
    "    if 'iPhone' in userAgent:\n",
    "        return 'iPhone'\n",
    "    elif 'iPad' in userAgent:\n",
    "        return 'iPad'\n",
    "    elif 'Android' in userAgent:\n",
    "        return 'Android'\n",
    "    elif 'Windows NT' in userAgent:\n",
    "        return 'Windows'\n",
    "    elif 'Macintosh' in userAgent:\n",
    "        return 'Mac'\n",
    "    else:\n",
    "        return 'Other'\n",
    "        "
   ]
  },
  {
   "cell_type": "code",
   "execution_count": 33,
   "metadata": {},
   "outputs": [],
   "source": [
    "# register the udf\n",
    "get_device_udf = udf(get_device)\n",
    "\n",
    "# create a new column with the device\n",
    "df_user = df_user.withColumn('device', get_device_udf('userAgent'))\n"
   ]
  },
  {
   "cell_type": "code",
   "execution_count": 34,
   "metadata": {},
   "outputs": [
    {
     "name": "stderr",
     "output_type": "stream",
     "text": [
      "                                                                                \r"
     ]
    },
    {
     "data": {
      "image/png": "[encoded data removed]",
      "text/plain": [
       "<Figure size 640x480 with 1 Axes>"
      ]
     },
     "metadata": {},
     "output_type": "display_data"
    }
   ],
   "source": [
    "# plot the distribution of devices\n",
    "df_user.groupBy('device').count().toPandas().plot(kind='barh', x='device', y='count')\n",
    "# sort bars by count\n",
    "plt.gca().invert_yaxis()\n",
    "# title the plot\n",
    "plt.title('Events from devices');\n",
    "# save the plot\n",
    "plt.savefig('img/device_distribution.png')"
   ]
  },
  {
   "cell_type": "code",
   "execution_count": 35,
   "metadata": {},
   "outputs": [],
   "source": [
    "# view user_table using sparksql\n",
    "df_user.createOrReplaceTempView('user_table')"
   ]
  },
  {
   "cell_type": "code",
   "execution_count": 36,
   "metadata": {},
   "outputs": [
    {
     "name": "stderr",
     "output_type": "stream",
     "text": [
      "                                                                                \r"
     ]
    },
    {
     "data": {
      "image/png": "[encoded data removed]",
      "text/plain": [
       "<Figure size 640x480 with 1 Axes>"
      ]
     },
     "metadata": {},
     "output_type": "display_data"
    }
   ],
   "source": [
    "# get the number of users per device\n",
    "spark.sql('''\n",
    "        SELECT device, count(DISTINCT userId) as num_users\n",
    "        FROM user_table\n",
    "        GROUP BY device\n",
    "        ORDER BY num_users DESC\n",
    "        ''').toPandas().plot(kind='barh', x='device', y='num_users')\n",
    "# sort bars by count\n",
    "plt.gca().invert_yaxis()\n",
    "# title the plot\n",
    "plt.title('Number of users per device');\n",
    "# save the plot\n",
    "plt.savefig('img/num_users_per_device.png')"
   ]
  },
  {
   "cell_type": "code",
   "execution_count": 37,
   "metadata": {},
   "outputs": [],
   "source": [
    "# get_browser function\n",
    "def get_browser(userAgent):\n",
    "    '''\n",
    "    Returns the browser used by the user based on the userAgent column.\n",
    "    \n",
    "    Parameters:\n",
    "    userAgent (str): the userAgent column\n",
    "    \n",
    "    Returns:\n",
    "    str: the browser used by the user\n",
    "    '''\n",
    "    if 'Chrome' in userAgent:\n",
    "        return 'Chrome'\n",
    "    elif 'Firefox' in userAgent:\n",
    "        return 'Firefox'\n",
    "    elif 'Safari' in userAgent:\n",
    "        return 'Safari'\n",
    "    elif 'MSIE' in userAgent:\n",
    "        return 'IE'\n",
    "    elif 'Trident' in userAgent:\n",
    "        return 'IE'\n",
    "    elif 'rv' in userAgent:\n",
    "        return 'IE'\n",
    "    else:\n",
    "        return 'Other'\n"
   ]
  },
  {
   "cell_type": "code",
   "execution_count": 38,
   "metadata": {},
   "outputs": [],
   "source": [
    "# register the udf\n",
    "get_browser_udf = udf(get_browser)\n",
    "\n",
    "# create a new column with the browser\n",
    "df_user = df_user.withColumn('browser', get_browser_udf('userAgent'))\n"
   ]
  },
  {
   "cell_type": "code",
   "execution_count": 39,
   "metadata": {},
   "outputs": [],
   "source": [
    "df_user.createOrReplaceTempView('user_table')"
   ]
  },
  {
   "cell_type": "code",
   "execution_count": 40,
   "metadata": {},
   "outputs": [
    {
     "name": "stderr",
     "output_type": "stream",
     "text": [
      "                                                                                \r"
     ]
    },
    {
     "data": {
      "image/png": "[encoded data removed]",
      "text/plain": [
       "<Figure size 640x480 with 1 Axes>"
      ]
     },
     "metadata": {},
     "output_type": "display_data"
    }
   ],
   "source": [
    "# plot the distribution of browsers\n",
    "df_user.groupBy('browser').count().toPandas().plot(kind='barh', x='browser', y='count')\n",
    "# sort bars by count\n",
    "plt.gca().invert_yaxis()\n",
    "# title the plot\n",
    "plt.title('Events form browsers');\n",
    "# save the plot\n",
    "plt.savefig('img/browser_distribution.png')\n"
   ]
  },
  {
   "cell_type": "code",
   "execution_count": 41,
   "metadata": {},
   "outputs": [
    {
     "name": "stderr",
     "output_type": "stream",
     "text": [
      "                                                                                \r"
     ]
    },
    {
     "data": {
      "image/png": "[encoded data removed]",
      "text/plain": [
       "<Figure size 640x480 with 1 Axes>"
      ]
     },
     "metadata": {},
     "output_type": "display_data"
    }
   ],
   "source": [
    "# get the number of users per browser\n",
    "spark.sql('''\n",
    "        SELECT browser, count(DISTINCT userId) as num_users\n",
    "        FROM user_table\n",
    "        GROUP BY browser\n",
    "        ORDER BY num_users DESC\n",
    "        ''').toPandas().plot(kind='barh', x='browser', y='num_users')\n",
    "# sort bars by count\n",
    "plt.gca().invert_yaxis()\n",
    "# title the plot\n",
    "plt.title('Number of users per browser');\n",
    "# save the plot\n",
    "plt.savefig('img/num_users_per_browser.png')"
   ]
  },
  {
   "attachments": {},
   "cell_type": "markdown",
   "metadata": {},
   "source": [
    "Definitely most people are using chrome"
   ]
  },
  {
   "cell_type": "code",
   "execution_count": 42,
   "metadata": {},
   "outputs": [
    {
     "name": "stderr",
     "output_type": "stream",
     "text": [
      "                                                                                \r"
     ]
    },
    {
     "data": {
      "image/png": "[encoded data removed]",
      "text/plain": [
       "<Figure size 640x480 with 1 Axes>"
      ]
     },
     "metadata": {},
     "output_type": "display_data"
    }
   ],
   "source": [
    "# plot churn vs. browser\n",
    "browser_vs_churn = spark.sql('''\n",
    "        SELECT browser, churn, count(DISTINCT userId) as num_users\n",
    "        FROM user_table\n",
    "        GROUP BY browser, churn\n",
    "        ORDER BY num_users DESC\n",
    "        ''').toPandas()\n",
    "# plot the relationship. For churn variable recode 0 as 'No Churn' and 1 as 'Churn'\n",
    "browser_vs_churn['churn'] = browser_vs_churn['churn'].replace({0: 'No Churn', 1: 'Churn'})\n",
    "sns.barplot(x='browser', y='num_users', hue='churn', data=browser_vs_churn)\n",
    "# title the plot\n",
    "plt.title('Browser vs. Churn');\n",
    "# save the plot\n",
    "plt.savefig('img/browser_vs_churn.png')"
   ]
  },
  {
   "cell_type": "code",
   "execution_count": 43,
   "metadata": {},
   "outputs": [
    {
     "name": "stderr",
     "output_type": "stream",
     "text": [
      "                                                                                \r"
     ]
    },
    {
     "data": {
      "image/png": "[encoded data removed]",
      "text/plain": [
       "<Figure size 640x480 with 1 Axes>"
      ]
     },
     "metadata": {},
     "output_type": "display_data"
    }
   ],
   "source": [
    "# plot churn vs. device\n",
    "device_vs_churn = spark.sql('''\n",
    "        SELECT device, churn, count(DISTINCT userId) as num_users\n",
    "        FROM user_table\n",
    "        GROUP BY device, churn\n",
    "        ORDER BY num_users DESC\n",
    "        ''').toPandas()\n",
    "# plot the relationship. For churn variable recode 0 as 'No Churn' and 1 as 'Churn'\n",
    "device_vs_churn['churn'] = device_vs_churn['churn'].replace({0: 'No Churn', 1: 'Churn'})\n",
    "sns.barplot(x='device', y='num_users', hue='churn', data=device_vs_churn)\n",
    "# title the plot\n",
    "plt.title('Device vs. Churn');\n",
    "# save the plot\n",
    "plt.savefig('img/device_vs_churn.png')"
   ]
  },
  {
   "attachments": {},
   "cell_type": "markdown",
   "metadata": {},
   "source": [
    "Okay, now we are going to start working with the churn time."
   ]
  },
  {
   "cell_type": "code",
   "execution_count": 44,
   "metadata": {},
   "outputs": [
    {
     "name": "stdout",
     "output_type": "stream",
     "text": [
      "root\n",
      " |-- artist: string (nullable = true)\n",
      " |-- auth: string (nullable = true)\n",
      " |-- churn: long (nullable = true)\n",
      " |-- cluster: long (nullable = true)\n",
      " |-- firstName: string (nullable = true)\n",
      " |-- gender: string (nullable = true)\n",
      " |-- itemInSession: long (nullable = true)\n",
      " |-- lastName: string (nullable = true)\n",
      " |-- length: double (nullable = true)\n",
      " |-- level: string (nullable = true)\n",
      " |-- location: string (nullable = true)\n",
      " |-- method: string (nullable = true)\n",
      " |-- page: string (nullable = true)\n",
      " |-- registration: double (nullable = true)\n",
      " |-- sessionId: long (nullable = true)\n",
      " |-- song: string (nullable = true)\n",
      " |-- status: long (nullable = true)\n",
      " |-- ts: long (nullable = true)\n",
      " |-- userAgent: string (nullable = true)\n",
      " |-- userId: string (nullable = true)\n",
      " |-- fulldate: string (nullable = true)\n",
      " |-- device: string (nullable = true)\n",
      " |-- browser: string (nullable = true)\n",
      "\n"
     ]
    }
   ],
   "source": [
    "df_user.printSchema()"
   ]
  },
  {
   "cell_type": "code",
   "execution_count": 45,
   "metadata": {},
   "outputs": [
    {
     "name": "stderr",
     "output_type": "stream",
     "text": [
      "                                                                                \r"
     ]
    }
   ],
   "source": [
    "time_data = spark.sql('''\n",
    "                    SELECT fulldate, userId\n",
    "                    FROM user_table\n",
    "                        ''').toPandas()"
   ]
  },
  {
   "cell_type": "code",
   "execution_count": 46,
   "metadata": {},
   "outputs": [],
   "source": [
    "# function to extract time related features from the fulldate column\n",
    "def get_time_features(df):\n",
    "    '''\n",
    "    Extracts time related features from the fulldate column.\n",
    "    \n",
    "    Parameters:\n",
    "    df (pandas dataframe): the dataframe containing the fulldate column\n",
    "    \n",
    "    Returns:\n",
    "    pandas dataframe: the dataframe containing the time related features\n",
    "    '''\n",
    "    # convert the fulldate column to datetime\n",
    "    df['fulldate'] = pd.to_datetime(df['fulldate'])\n",
    "    # extract the hour, day, week of year, month, year, and weekday from the fulldate column\n",
    "    df['hour'] = df['fulldate'].dt.hour\n",
    "    df['day'] = df['fulldate'].dt.day\n",
    "    df['week'] = df['fulldate'].dt.isocalendar().week\n",
    "    df['month'] = df['fulldate'].dt.month\n",
    "    df['year'] = df['fulldate'].dt.year\n",
    "    df['weekday'] = df['fulldate'].dt.weekday\n",
    "    # weekday human readable format\n",
    "    df['weekday_hrf'] = df['weekday'].replace({0: 'Monday', 1: 'Tuesday', 2: 'Wednesday', 3: 'Thursday', 4: 'Friday', 5: 'Saturday', 6: 'Sunday'})\n",
    "    \n",
    "    return df\n",
    "\n",
    "# get the time related features\n",
    "time_data = get_time_features(time_data)"
   ]
  },
  {
   "cell_type": "code",
   "execution_count": 47,
   "metadata": {},
   "outputs": [
    {
     "data": {
      "text/html": [
       "<div>\n",
       "<style scoped>\n",
       "    .dataframe tbody tr th:only-of-type {\n",
       "        vertical-align: middle;\n",
       "    }\n",
       "\n",
       "    .dataframe tbody tr th {\n",
       "        vertical-align: top;\n",
       "    }\n",
       "\n",
       "    .dataframe thead th {\n",
       "        text-align: right;\n",
       "    }\n",
       "</style>\n",
       "<table border=\"1\" class=\"dataframe\">\n",
       "  <thead>\n",
       "    <tr style=\"text-align: right;\">\n",
       "      <th></th>\n",
       "      <th>fulldate</th>\n",
       "      <th>userId</th>\n",
       "      <th>hour</th>\n",
       "      <th>day</th>\n",
       "      <th>week</th>\n",
       "      <th>month</th>\n",
       "      <th>year</th>\n",
       "      <th>weekday</th>\n",
       "      <th>weekday_hrf</th>\n",
       "    </tr>\n",
       "  </thead>\n",
       "  <tbody>\n",
       "    <tr>\n",
       "      <th>0</th>\n",
       "      <td>2018-10-01 02:01:57</td>\n",
       "      <td>30</td>\n",
       "      <td>2</td>\n",
       "      <td>1</td>\n",
       "      <td>40</td>\n",
       "      <td>10</td>\n",
       "      <td>2018</td>\n",
       "      <td>0</td>\n",
       "      <td>Monday</td>\n",
       "    </tr>\n",
       "    <tr>\n",
       "      <th>1</th>\n",
       "      <td>2018-10-01 02:03:00</td>\n",
       "      <td>9</td>\n",
       "      <td>2</td>\n",
       "      <td>1</td>\n",
       "      <td>40</td>\n",
       "      <td>10</td>\n",
       "      <td>2018</td>\n",
       "      <td>0</td>\n",
       "      <td>Monday</td>\n",
       "    </tr>\n",
       "    <tr>\n",
       "      <th>2</th>\n",
       "      <td>2018-10-01 02:06:34</td>\n",
       "      <td>30</td>\n",
       "      <td>2</td>\n",
       "      <td>1</td>\n",
       "      <td>40</td>\n",
       "      <td>10</td>\n",
       "      <td>2018</td>\n",
       "      <td>0</td>\n",
       "      <td>Monday</td>\n",
       "    </tr>\n",
       "    <tr>\n",
       "      <th>3</th>\n",
       "      <td>2018-10-01 02:06:56</td>\n",
       "      <td>9</td>\n",
       "      <td>2</td>\n",
       "      <td>1</td>\n",
       "      <td>40</td>\n",
       "      <td>10</td>\n",
       "      <td>2018</td>\n",
       "      <td>0</td>\n",
       "      <td>Monday</td>\n",
       "    </tr>\n",
       "    <tr>\n",
       "      <th>4</th>\n",
       "      <td>2018-10-01 02:11:16</td>\n",
       "      <td>30</td>\n",
       "      <td>2</td>\n",
       "      <td>1</td>\n",
       "      <td>40</td>\n",
       "      <td>10</td>\n",
       "      <td>2018</td>\n",
       "      <td>0</td>\n",
       "      <td>Monday</td>\n",
       "    </tr>\n",
       "  </tbody>\n",
       "</table>\n",
       "</div>"
      ],
      "text/plain": [
       "             fulldate userId  hour  day  week  month  year  weekday  \\\n",
       "0 2018-10-01 02:01:57     30     2    1    40     10  2018        0   \n",
       "1 2018-10-01 02:03:00      9     2    1    40     10  2018        0   \n",
       "2 2018-10-01 02:06:34     30     2    1    40     10  2018        0   \n",
       "3 2018-10-01 02:06:56      9     2    1    40     10  2018        0   \n",
       "4 2018-10-01 02:11:16     30     2    1    40     10  2018        0   \n",
       "\n",
       "  weekday_hrf  \n",
       "0      Monday  \n",
       "1      Monday  \n",
       "2      Monday  \n",
       "3      Monday  \n",
       "4      Monday  "
      ]
     },
     "execution_count": 47,
     "metadata": {},
     "output_type": "execute_result"
    }
   ],
   "source": [
    "time_data.head()"
   ]
  },
  {
   "cell_type": "code",
   "execution_count": 48,
   "metadata": {},
   "outputs": [
    {
     "data": {
      "image/png": "[encoded data removed]",
      "text/plain": [
       "<Figure size 640x480 with 1 Axes>"
      ]
     },
     "metadata": {},
     "output_type": "display_data"
    }
   ],
   "source": [
    "# plot the distribution of the hour\n",
    "time_data['hour'].plot(kind='hist', bins=24)\n",
    "# title the plot\n",
    "plt.title('When do users use the app?');\n",
    "# save the plot\n",
    "plt.savefig('img/hour_distribution.png')\n"
   ]
  },
  {
   "cell_type": "code",
   "execution_count": 49,
   "metadata": {},
   "outputs": [
    {
     "data": {
      "image/png": "[encoded data removed]",
      "text/plain": [
       "<Figure size 640x480 with 1 Axes>"
      ]
     },
     "metadata": {},
     "output_type": "display_data"
    }
   ],
   "source": [
    "# which days of the week do users use the app?\n",
    "# sort the values by the day of the week\n",
    "time_data['weekday_hrf'] = pd.Categorical(time_data['weekday_hrf'], categories=['Monday', 'Tuesday', 'Wednesday', 'Thursday', 'Friday', 'Saturday', 'Sunday'], ordered=True)\n",
    "time_data['weekday_hrf'].value_counts(sort=False).plot(kind='bar')\n",
    "# title the plot\n",
    "plt.title('Which days of the week do users use the app?');\n",
    "# save the plot\n",
    "plt.savefig('img/weekday_distribution.png')"
   ]
  },
  {
   "attachments": {},
   "cell_type": "markdown",
   "metadata": {},
   "source": [
    "The usage is really low at the weekend."
   ]
  },
  {
   "cell_type": "code",
   "execution_count": 50,
   "metadata": {},
   "outputs": [
    {
     "data": {
      "image/png": "[encoded data removed]",
      "text/plain": [
       "<Figure size 640x480 with 1 Axes>"
      ]
     },
     "metadata": {},
     "output_type": "display_data"
    }
   ],
   "source": [
    "# which days of the month do users use the app?\n",
    "# sort the values by the day of the month\n",
    "time_data['day'] = pd.Categorical(time_data['day'], categories=sorted(time_data['day'].unique()), ordered=True)\n",
    "# plot the distribution of the day\n",
    "time_data['day'].value_counts(sort=False).plot(kind='bar')\n",
    "# title the plot\n",
    "plt.title('Which days of the month do users use the app?');\n",
    "# save the plot\n",
    "plt.savefig('img/day_distribution.png')\n"
   ]
  },
  {
   "attachments": {},
   "cell_type": "markdown",
   "metadata": {},
   "source": [
    "Well, the last plot is pretty unmeaningful but I wanted to see anyway"
   ]
  },
  {
   "cell_type": "code",
   "execution_count": 51,
   "metadata": {},
   "outputs": [
    {
     "name": "stderr",
     "output_type": "stream",
     "text": [
      "/Users/tugberk/DataspellProjects/capstone_sparkify/.venv/lib/python3.8/site-packages/pyspark/sql/pandas/conversion.py:474: FutureWarning: iteritems is deprecated and will be removed in a future version. Use .items instead.\n",
      "  for column, series in pdf.iteritems():\n",
      "/Users/tugberk/DataspellProjects/capstone_sparkify/.venv/lib/python3.8/site-packages/pyspark/sql/pandas/conversion.py:486: FutureWarning: iteritems is deprecated and will be removed in a future version. Use .items instead.\n",
      "  for column, series in pdf.iteritems():\n"
     ]
    }
   ],
   "source": [
    "# add the time related features to the user table using spark\n",
    "time_data = spark.createDataFrame(time_data)\n",
    "df_user = df_user.join(time_data, on=['userId', 'fulldate'], how='left')"
   ]
  },
  {
   "cell_type": "code",
   "execution_count": 52,
   "metadata": {},
   "outputs": [
    {
     "name": "stdout",
     "output_type": "stream",
     "text": [
      "23/01/01 11:37:48 WARN package: Truncated the string representation of a plan since it was too large. This behavior can be adjusted by setting 'spark.sql.debug.maxToStringFields'.\n"
     ]
    }
   ],
   "source": [
    "# user table\n",
    "df_user.createOrReplaceTempView('user_table')"
   ]
  },
  {
   "cell_type": "code",
   "execution_count": 53,
   "metadata": {},
   "outputs": [],
   "source": [
    "# convert registration to datetime\n",
    "df_user = df_user.withColumn('registration_dt', ts_todate('registration'))\n"
   ]
  },
  {
   "cell_type": "code",
   "execution_count": 54,
   "metadata": {},
   "outputs": [],
   "source": [
    "# get the number of days since registration at event time\n",
    "df_user = df_user.withColumn('ds_reg_at_event', datediff('fulldate', 'registration_dt'))\n"
   ]
  },
  {
   "cell_type": "code",
   "execution_count": 55,
   "metadata": {},
   "outputs": [],
   "source": [
    "# user table\n",
    "df_user.createOrReplaceTempView('user_table')"
   ]
  },
  {
   "cell_type": "code",
   "execution_count": 56,
   "metadata": {},
   "outputs": [
    {
     "name": "stderr",
     "output_type": "stream",
     "text": [
      "[Stage 149:>                (0 + 8) / 8][Stage 150:>                (0 + 0) / 8]\r"
     ]
    },
    {
     "name": "stdout",
     "output_type": "stream",
     "text": [
      "23/01/01 11:38:05 WARN TaskSetManager: Stage 150 contains a task of very large size (1116 KiB). The maximum recommended task size is 1000 KiB.\n"
     ]
    },
    {
     "name": "stderr",
     "output_type": "stream",
     "text": [
      "                                                                                \r"
     ]
    }
   ],
   "source": [
    "# get the number of days since registration per user and make it a column\n",
    "ds_reg_at_event = spark.sql('''\n",
    "                                SELECT userId, ds_reg_at_event\n",
    "                                FROM user_table\n",
    "                                ''').toPandas()\n",
    "ds_reg_at_event = ds_reg_at_event.drop_duplicates(subset='userId', keep='last')\n",
    "\n"
   ]
  },
  {
   "cell_type": "code",
   "execution_count": 57,
   "metadata": {},
   "outputs": [
    {
     "name": "stderr",
     "output_type": "stream",
     "text": [
      "/Users/tugberk/DataspellProjects/capstone_sparkify/.venv/lib/python3.8/site-packages/pyspark/sql/pandas/conversion.py:474: FutureWarning: iteritems is deprecated and will be removed in a future version. Use .items instead.\n",
      "  for column, series in pdf.iteritems():\n",
      "/Users/tugberk/DataspellProjects/capstone_sparkify/.venv/lib/python3.8/site-packages/pyspark/sql/pandas/conversion.py:486: FutureWarning: iteritems is deprecated and will be removed in a future version. Use .items instead.\n",
      "  for column, series in pdf.iteritems():\n"
     ]
    },
    {
     "data": {
      "text/html": [
       "<div>\n",
       "<style scoped>\n",
       "    .dataframe tbody tr th:only-of-type {\n",
       "        vertical-align: middle;\n",
       "    }\n",
       "\n",
       "    .dataframe tbody tr th {\n",
       "        vertical-align: top;\n",
       "    }\n",
       "\n",
       "    .dataframe thead th {\n",
       "        text-align: right;\n",
       "    }\n",
       "</style>\n",
       "<table border=\"1\" class=\"dataframe\">\n",
       "  <thead>\n",
       "    <tr style=\"text-align: right;\">\n",
       "      <th></th>\n",
       "      <th>userId</th>\n",
       "      <th>ds_reg</th>\n",
       "    </tr>\n",
       "  </thead>\n",
       "  <tbody>\n",
       "    <tr>\n",
       "      <th>0</th>\n",
       "      <td>135</td>\n",
       "      <td>72</td>\n",
       "    </tr>\n",
       "    <tr>\n",
       "      <th>1</th>\n",
       "      <td>32</td>\n",
       "      <td>21</td>\n",
       "    </tr>\n",
       "    <tr>\n",
       "      <th>2</th>\n",
       "      <td>18</td>\n",
       "      <td>38</td>\n",
       "    </tr>\n",
       "    <tr>\n",
       "      <th>3</th>\n",
       "      <td>19</td>\n",
       "      <td>22</td>\n",
       "    </tr>\n",
       "    <tr>\n",
       "      <th>4</th>\n",
       "      <td>125</td>\n",
       "      <td>72</td>\n",
       "    </tr>\n",
       "  </tbody>\n",
       "</table>\n",
       "</div>"
      ],
      "text/plain": [
       "  userId  ds_reg\n",
       "0    135      72\n",
       "1     32      21\n",
       "2     18      38\n",
       "3     19      22\n",
       "4    125      72"
      ]
     },
     "execution_count": 57,
     "metadata": {},
     "output_type": "execute_result"
    }
   ],
   "source": [
    "# rename the column\n",
    "ds_reg_at_event = ds_reg_at_event.rename(columns={'ds_reg_at_event': 'ds_reg'})\n",
    "ds_reg_at_event = spark.createDataFrame(ds_reg_at_event)\n",
    "# add the days since registration column to the user table\n",
    "df_user = df_user.join(ds_reg_at_event, on='userId', how='left')\n",
    "# user table\n",
    "df_user.createOrReplaceTempView('user_table')\n",
    "ds_reg_at_event.toPandas().head()"
   ]
  },
  {
   "cell_type": "code",
   "execution_count": 58,
   "metadata": {},
   "outputs": [
    {
     "name": "stdout",
     "output_type": "stream",
     "text": [
      "root\n",
      " |-- userId: string (nullable = true)\n",
      " |-- fulldate: string (nullable = true)\n",
      " |-- artist: string (nullable = true)\n",
      " |-- auth: string (nullable = true)\n",
      " |-- churn: long (nullable = true)\n",
      " |-- cluster: long (nullable = true)\n",
      " |-- firstName: string (nullable = true)\n",
      " |-- gender: string (nullable = true)\n",
      " |-- itemInSession: long (nullable = true)\n",
      " |-- lastName: string (nullable = true)\n",
      " |-- length: double (nullable = true)\n",
      " |-- level: string (nullable = true)\n",
      " |-- location: string (nullable = true)\n",
      " |-- method: string (nullable = true)\n",
      " |-- page: string (nullable = true)\n",
      " |-- registration: double (nullable = true)\n",
      " |-- sessionId: long (nullable = true)\n",
      " |-- song: string (nullable = true)\n",
      " |-- status: long (nullable = true)\n",
      " |-- ts: long (nullable = true)\n",
      " |-- userAgent: string (nullable = true)\n",
      " |-- device: string (nullable = true)\n",
      " |-- browser: string (nullable = true)\n",
      " |-- hour: long (nullable = true)\n",
      " |-- day: long (nullable = true)\n",
      " |-- week: long (nullable = true)\n",
      " |-- month: long (nullable = true)\n",
      " |-- year: long (nullable = true)\n",
      " |-- weekday: long (nullable = true)\n",
      " |-- weekday_hrf: string (nullable = true)\n",
      " |-- registration_dt: string (nullable = true)\n",
      " |-- ds_reg_at_event: integer (nullable = true)\n",
      " |-- ds_reg: long (nullable = true)\n",
      "\n"
     ]
    }
   ],
   "source": [
    "#print the schema\n",
    "df_user.printSchema()"
   ]
  },
  {
   "cell_type": "code",
   "execution_count": 59,
   "metadata": {},
   "outputs": [
    {
     "name": "stderr",
     "output_type": "stream",
     "text": [
      "[Stage 156:>  (0 + 8) / 8][Stage 157:>  (0 + 0) / 8][Stage 158:>  (0 + 0) / 8]8]\r"
     ]
    },
    {
     "name": "stdout",
     "output_type": "stream",
     "text": [
      "23/01/01 11:38:51 WARN TaskSetManager: Stage 157 contains a task of very large size (1116 KiB). The maximum recommended task size is 1000 KiB.\n"
     ]
    },
    {
     "name": "stderr",
     "output_type": "stream",
     "text": [
      "                                                                                \r"
     ]
    }
   ],
   "source": [
    "# plot the distribution of the days since registration for churned users and non-churned users\n",
    "temp = spark.sql('''\n",
    "                    SELECT churn, ds_reg\n",
    "                    FROM user_table''').toPandas()\n"
   ]
  },
  {
   "cell_type": "code",
   "execution_count": 60,
   "metadata": {},
   "outputs": [
    {
     "data": {
      "image/png": "[encoded data removed]",
      "text/plain": [
       "<Figure size 640x480 with 1 Axes>"
      ]
     },
     "metadata": {},
     "output_type": "display_data"
    }
   ],
   "source": [
    "# churn vs. days since registration\n",
    "sns.boxplot(x='churn', y='ds_reg', data=temp)\n",
    "# rename churn labels\n",
    "plt.xticks([0, 1], ['No Churn', 'Churn'])\n",
    "# title the plot\n",
    "plt.title('Churn vs. Days Since Registration');\n",
    "# save the plot\n",
    "plt.savefig('img/churn_vs_ds_reg.png')\n"
   ]
  },
  {
   "attachments": {},
   "cell_type": "markdown",
   "metadata": {},
   "source": [
    "Until here, we have explored the data and added new features. However, this operation was costly in terms of memory. So I will save the data to my S3 bucket and then read it from there. This will save me from the memory issues."
   ]
  },
  {
   "cell_type": "code",
   "execution_count": 61,
   "metadata": {},
   "outputs": [],
   "source": [
    "# save the data to a json file in my s3 bucket\n",
    "#df_user.write.json('s3://udacitysparkify/final_df_processed.json')"
   ]
  },
  {
   "cell_type": "code",
   "execution_count": 62,
   "metadata": {},
   "outputs": [
    {
     "name": "stderr",
     "output_type": "stream",
     "text": [
      "[Stage 165:>  (0 + 8) / 8][Stage 166:>  (0 + 0) / 8][Stage 167:>  (0 + 0) / 8]8]\r"
     ]
    },
    {
     "name": "stdout",
     "output_type": "stream",
     "text": [
      "23/01/01 11:39:16 WARN TaskSetManager: Stage 166 contains a task of very large size (1116 KiB). The maximum recommended task size is 1000 KiB.\n"
     ]
    },
    {
     "name": "stderr",
     "output_type": "stream",
     "text": [
      "                                                                                \r"
     ]
    }
   ],
   "source": [
    "# save the data to local disk (uncomment the line below only when you work locally)\n",
    "df_user.toPandas().to_json('data/final_df_processed.json', orient='records', lines=True)"
   ]
  }
 ],
 "metadata": {
  "kernelspec": {
   "display_name": ".venv",
   "language": "python",
   "name": "python3"
  },
  "language_info": {
   "codemirror_mode": {
    "name": "ipython",
    "version": 3
   },
   "file_extension": ".py",
   "mimetype": "text/x-python",
   "name": "python",
   "nbconvert_exporter": "python",
   "pygments_lexer": "ipython3",
   "version": "3.8.2 (default, Jul 14 2020, 05:39:05) \n[Clang 12.0.0 (clang-1200.0.26.2)]"
  },
  "vscode": {
   "interpreter": {
    "hash": "76591053f9b069e508cee440cc33afdc6edbabdb95a7503adbfed00e238d5da9"
   }
  }
 },
 "nbformat": 4,
 "nbformat_minor": 1
}

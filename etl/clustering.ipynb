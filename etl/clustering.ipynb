{
 "cells": [
  {
   "attachments": {},
   "cell_type": "markdown",
   "metadata": {},
   "source": [
    "# CLUSTERING THE GENRES\n",
    "This notebook is created for reducing the size of the data set.\n",
    "get_artist_info.py brought the responses from the API. And get_genres.py created almost 500 hundred extra dimensions\n",
    "Here I will run Principal component analysis to reduce the dimensions to 2 and then use K-means to cluster the data."
   ]
  },
  {
   "cell_type": "code",
   "execution_count": 2,
   "metadata": {},
   "outputs": [],
   "source": [
    "import pandas as pd\n",
    "import numpy as np\n",
    "import matplotlib.pyplot as plt\n",
    "import seaborn as sns\n",
    "# principal component analysis\n",
    "from sklearn.decomposition import PCA\n",
    "# elbow method\n",
    "from sklearn.cluster import KMeans\n",
    "# silhouette score\n",
    "from sklearn.metrics import silhouette_score\n",
    "# hierarchical clustering\n",
    "from scipy.cluster.hierarchy import dendrogram, linkage\n"
   ]
  },
  {
   "attachments": {},
   "cell_type": "markdown",
   "metadata": {},
   "source": [
    "I don't want to perform this dimensionality reduction on the cloud as it's not necessary for the scope of this project. Rather, PCA + K-Means will be appied locally and the resulting cluster column will be added to sparkify mini dataset. The rationale for this decision is, spark would be an overkill for this task."
   ]
  },
  {
   "cell_type": "code",
   "execution_count": 3,
   "metadata": {},
   "outputs": [],
   "source": [
    "# read mini_sparkify_event_data.json from data folder\n",
    "df = pd.read_json('../data/mini_sparkify_event_data.json', lines=True)\n",
    "# read genres.csv from data folder\n",
    "genres = pd.read_csv('../data/genres.csv')\n"
   ]
  },
  {
   "cell_type": "code",
   "execution_count": 4,
   "metadata": {},
   "outputs": [],
   "source": [
    "# change column name to artist on genres dataframe\n",
    "genres.rename(columns={'name':'artist'}, inplace=True)"
   ]
  },
  {
   "cell_type": "code",
   "execution_count": 5,
   "metadata": {},
   "outputs": [],
   "source": [
    "# lowercase df['artist'] column\n",
    "df['artist'] = df['artist'].str.lower()"
   ]
  },
  {
   "cell_type": "code",
   "execution_count": 6,
   "metadata": {},
   "outputs": [],
   "source": [
    "# join the two dataframes on artist column\n",
    "merged = df.merge(genres, on='artist', how='left')"
   ]
  },
  {
   "attachments": {},
   "cell_type": "markdown",
   "metadata": {},
   "source": [
    "Musicbrainz API returned genres for about %20 percent of the artists. When the merge is done,\n",
    "the missing values are filled with NaN. Dropping them would cause us to lose a lot of data.\n",
    "So, I decided to fill the missing values with the values with 0. However, I don't want to fill \n",
    "the other columns with 0. So, I will fill the missing values with 0 only for the genre columns."
   ]
  },
  {
   "cell_type": "code",
   "execution_count": 7,
   "metadata": {},
   "outputs": [],
   "source": [
    "# mark columns to be filled with 0\n",
    "fill_cols = merged.columns[20:]\n"
   ]
  },
  {
   "cell_type": "code",
   "execution_count": 8,
   "metadata": {},
   "outputs": [],
   "source": [
    "# fill the missing values with 0\n",
    "processed_df = merged[fill_cols].fillna(0).copy()"
   ]
  },
  {
   "cell_type": "code",
   "execution_count": 9,
   "metadata": {},
   "outputs": [
    {
     "data": {
      "text/html": [
       "<div>\n",
       "<style scoped>\n",
       "    .dataframe tbody tr th:only-of-type {\n",
       "        vertical-align: middle;\n",
       "    }\n",
       "\n",
       "    .dataframe tbody tr th {\n",
       "        vertical-align: top;\n",
       "    }\n",
       "\n",
       "    .dataframe thead th {\n",
       "        text-align: right;\n",
       "    }\n",
       "</style>\n",
       "<table border=\"1\" class=\"dataframe\">\n",
       "  <thead>\n",
       "    <tr style=\"text-align: right;\">\n",
       "      <th></th>\n",
       "      <th>2008 universal fire victim</th>\n",
       "      <th>2013</th>\n",
       "      <th>4ad</th>\n",
       "      <th>a cappella</th>\n",
       "      <th>acid jazz</th>\n",
       "      <th>acoustic rock</th>\n",
       "      <th>actor</th>\n",
       "      <th>affiance</th>\n",
       "      <th>afrobeat</th>\n",
       "      <th>aggro berlin</th>\n",
       "      <th>...</th>\n",
       "      <th>zombiecore</th>\n",
       "      <th>zydeco</th>\n",
       "      <th>Choir</th>\n",
       "      <th>Group</th>\n",
       "      <th>Orchestra</th>\n",
       "      <th>Other</th>\n",
       "      <th>Person</th>\n",
       "      <th>female</th>\n",
       "      <th>male</th>\n",
       "      <th>other</th>\n",
       "    </tr>\n",
       "  </thead>\n",
       "  <tbody>\n",
       "    <tr>\n",
       "      <th>0</th>\n",
       "      <td>0.0</td>\n",
       "      <td>0.0</td>\n",
       "      <td>0.0</td>\n",
       "      <td>0.0</td>\n",
       "      <td>0.0</td>\n",
       "      <td>0.0</td>\n",
       "      <td>0.0</td>\n",
       "      <td>0.0</td>\n",
       "      <td>0.0</td>\n",
       "      <td>0.0</td>\n",
       "      <td>...</td>\n",
       "      <td>0.0</td>\n",
       "      <td>0.0</td>\n",
       "      <td>0.0</td>\n",
       "      <td>0.0</td>\n",
       "      <td>0.0</td>\n",
       "      <td>0.0</td>\n",
       "      <td>0.0</td>\n",
       "      <td>0.0</td>\n",
       "      <td>0.0</td>\n",
       "      <td>0.0</td>\n",
       "    </tr>\n",
       "    <tr>\n",
       "      <th>1</th>\n",
       "      <td>0.0</td>\n",
       "      <td>0.0</td>\n",
       "      <td>0.0</td>\n",
       "      <td>0.0</td>\n",
       "      <td>0.0</td>\n",
       "      <td>0.0</td>\n",
       "      <td>0.0</td>\n",
       "      <td>0.0</td>\n",
       "      <td>0.0</td>\n",
       "      <td>0.0</td>\n",
       "      <td>...</td>\n",
       "      <td>0.0</td>\n",
       "      <td>0.0</td>\n",
       "      <td>0.0</td>\n",
       "      <td>0.0</td>\n",
       "      <td>0.0</td>\n",
       "      <td>0.0</td>\n",
       "      <td>0.0</td>\n",
       "      <td>0.0</td>\n",
       "      <td>0.0</td>\n",
       "      <td>0.0</td>\n",
       "    </tr>\n",
       "    <tr>\n",
       "      <th>2</th>\n",
       "      <td>0.0</td>\n",
       "      <td>0.0</td>\n",
       "      <td>0.0</td>\n",
       "      <td>0.0</td>\n",
       "      <td>0.0</td>\n",
       "      <td>0.0</td>\n",
       "      <td>0.0</td>\n",
       "      <td>0.0</td>\n",
       "      <td>0.0</td>\n",
       "      <td>0.0</td>\n",
       "      <td>...</td>\n",
       "      <td>0.0</td>\n",
       "      <td>0.0</td>\n",
       "      <td>0.0</td>\n",
       "      <td>0.0</td>\n",
       "      <td>0.0</td>\n",
       "      <td>0.0</td>\n",
       "      <td>0.0</td>\n",
       "      <td>0.0</td>\n",
       "      <td>0.0</td>\n",
       "      <td>0.0</td>\n",
       "    </tr>\n",
       "    <tr>\n",
       "      <th>3</th>\n",
       "      <td>0.0</td>\n",
       "      <td>0.0</td>\n",
       "      <td>0.0</td>\n",
       "      <td>0.0</td>\n",
       "      <td>0.0</td>\n",
       "      <td>0.0</td>\n",
       "      <td>0.0</td>\n",
       "      <td>0.0</td>\n",
       "      <td>0.0</td>\n",
       "      <td>0.0</td>\n",
       "      <td>...</td>\n",
       "      <td>0.0</td>\n",
       "      <td>0.0</td>\n",
       "      <td>0.0</td>\n",
       "      <td>0.0</td>\n",
       "      <td>0.0</td>\n",
       "      <td>0.0</td>\n",
       "      <td>0.0</td>\n",
       "      <td>0.0</td>\n",
       "      <td>0.0</td>\n",
       "      <td>0.0</td>\n",
       "    </tr>\n",
       "    <tr>\n",
       "      <th>4</th>\n",
       "      <td>0.0</td>\n",
       "      <td>0.0</td>\n",
       "      <td>0.0</td>\n",
       "      <td>0.0</td>\n",
       "      <td>0.0</td>\n",
       "      <td>0.0</td>\n",
       "      <td>0.0</td>\n",
       "      <td>0.0</td>\n",
       "      <td>0.0</td>\n",
       "      <td>0.0</td>\n",
       "      <td>...</td>\n",
       "      <td>0.0</td>\n",
       "      <td>0.0</td>\n",
       "      <td>0.0</td>\n",
       "      <td>1.0</td>\n",
       "      <td>0.0</td>\n",
       "      <td>0.0</td>\n",
       "      <td>0.0</td>\n",
       "      <td>0.0</td>\n",
       "      <td>0.0</td>\n",
       "      <td>0.0</td>\n",
       "    </tr>\n",
       "  </tbody>\n",
       "</table>\n",
       "<p>5 rows × 501 columns</p>\n",
       "</div>"
      ],
      "text/plain": [
       "   2008 universal fire victim  2013  4ad  a cappella  acid jazz  \\\n",
       "0                         0.0   0.0  0.0         0.0        0.0   \n",
       "1                         0.0   0.0  0.0         0.0        0.0   \n",
       "2                         0.0   0.0  0.0         0.0        0.0   \n",
       "3                         0.0   0.0  0.0         0.0        0.0   \n",
       "4                         0.0   0.0  0.0         0.0        0.0   \n",
       "\n",
       "   acoustic rock  actor  affiance  afrobeat  aggro berlin  ...  zombiecore  \\\n",
       "0            0.0    0.0       0.0       0.0           0.0  ...         0.0   \n",
       "1            0.0    0.0       0.0       0.0           0.0  ...         0.0   \n",
       "2            0.0    0.0       0.0       0.0           0.0  ...         0.0   \n",
       "3            0.0    0.0       0.0       0.0           0.0  ...         0.0   \n",
       "4            0.0    0.0       0.0       0.0           0.0  ...         0.0   \n",
       "\n",
       "   zydeco  Choir  Group  Orchestra  Other  Person  female  male  other  \n",
       "0     0.0    0.0    0.0        0.0    0.0     0.0     0.0   0.0    0.0  \n",
       "1     0.0    0.0    0.0        0.0    0.0     0.0     0.0   0.0    0.0  \n",
       "2     0.0    0.0    0.0        0.0    0.0     0.0     0.0   0.0    0.0  \n",
       "3     0.0    0.0    0.0        0.0    0.0     0.0     0.0   0.0    0.0  \n",
       "4     0.0    0.0    1.0        0.0    0.0     0.0     0.0   0.0    0.0  \n",
       "\n",
       "[5 rows x 501 columns]"
      ]
     },
     "execution_count": 9,
     "metadata": {},
     "output_type": "execute_result"
    }
   ],
   "source": [
    "processed_df.head()"
   ]
  },
  {
   "attachments": {},
   "cell_type": "markdown",
   "metadata": {},
   "source": [
    "Okay, everything looks good. Now, just to tame my curiousity, I will check which genres and types(gender or band) are the mostly populated in our df"
   ]
  },
  {
   "cell_type": "code",
   "execution_count": 10,
   "metadata": {},
   "outputs": [
    {
     "data": {
      "text/plain": [
       "Group               45667\n",
       "male                11564\n",
       "indie rock           6079\n",
       "rock                 5722\n",
       "female               5385\n",
       "hip hop              3594\n",
       "pop                  3451\n",
       "country              1996\n",
       "alternative rock     1794\n",
       "blues rock           1717\n",
       "dtype: int64"
      ]
     },
     "execution_count": 10,
     "metadata": {},
     "output_type": "execute_result"
    }
   ],
   "source": [
    "# exclude first 20 elements from the column names\n",
    "processed_df.astype(bool).sum(axis=0).sort_values(ascending=False).head(10)\n"
   ]
  },
  {
   "cell_type": "code",
   "execution_count": 11,
   "metadata": {},
   "outputs": [],
   "source": [
    "# principal component analysis\n",
    "from sklearn.decomposition import PCA"
   ]
  },
  {
   "cell_type": "code",
   "execution_count": 12,
   "metadata": {},
   "outputs": [],
   "source": [
    "pca_df = processed_df.copy()"
   ]
  },
  {
   "cell_type": "code",
   "execution_count": 13,
   "metadata": {},
   "outputs": [],
   "source": [
    "# instantiate PCA\n",
    "pca = PCA(n_components=2)\n",
    "# fit and transform pca_df\n",
    "pca_df = pca.fit_transform(pca_df)\n"
   ]
  },
  {
   "cell_type": "code",
   "execution_count": 14,
   "metadata": {},
   "outputs": [],
   "source": [
    "# create a dataframe from pca_df\n",
    "pca_df = pd.DataFrame(pca_df, columns=['pc1', 'pc2'])"
   ]
  },
  {
   "cell_type": "code",
   "execution_count": 15,
   "metadata": {},
   "outputs": [
    {
     "data": {
      "image/png": "[encoded data removed]",
      "text/plain": [
       "<Figure size 640x480 with 1 Axes>"
      ]
     },
     "metadata": {},
     "output_type": "display_data"
    }
   ],
   "source": [
    "# cluster the data\n",
    "from sklearn.cluster import KMeans\n",
    "\n",
    "# use elbow method to find the optimal number of clusters\n",
    "wcss = []\n",
    "for i in range(2, 8):\n",
    "    kmeans = KMeans(n_clusters=i, init='k-means++',\n",
    "    n_init =10,  random_state=42)\n",
    "    kmeans.fit(pca_df)\n",
    "    wcss.append(kmeans.inertia_)\n",
    "\n",
    "# plot the elbow method\n",
    "plt.plot(range(2, 8), wcss)\n",
    "plt.title('The Elbow Method')\n",
    "plt.xlabel('Number of clusters')\n",
    "plt.ylabel('WCSS')\n",
    "plt.show()\n",
    "\n"
   ]
  },
  {
   "attachments": {},
   "cell_type": "markdown",
   "metadata": {},
   "source": [
    "Okay, Clearly the elbow occurs at 3 clusters. Easy catch!"
   ]
  },
  {
   "cell_type": "code",
   "execution_count": 16,
   "metadata": {},
   "outputs": [
    {
     "data": {
      "image/png": "[encoded data removed]",
      "text/plain": [
       "<Figure size 1000x1000 with 1 Axes>"
      ]
     },
     "metadata": {},
     "output_type": "display_data"
    }
   ],
   "source": [
    "# initialize kmeans with 3 clusters\n",
    "kmeans = KMeans(n_clusters=3, init='k-means++',\n",
    "n_init=10, random_state=42)\n",
    "\n",
    "# fit and predict pca_df\n",
    "y_kmeans = kmeans.fit_predict(pca_df)\n",
    "\n",
    "# create a dataframe from pca_df\n",
    "pca_df = pd.DataFrame(pca_df, columns=['pc1', 'pc2'])\n",
    "\n",
    "# add cluster column to pca_df\n",
    "pca_df['cluster'] = y_kmeans\n",
    "\n",
    "# plot the clusters\n",
    "plt.figure(figsize=(10, 10))\n",
    "sns.scatterplot(x='pc1', y='pc2', hue='cluster', data=pca_df, palette='Set1')\n",
    "# set the scale of axes properly\n",
    "plt.xlim(-3, 3)\n",
    "plt.ylim(-3, 3)\n",
    "plt.title('Clusters of Users')\n",
    "plt.show()"
   ]
  },
  {
   "cell_type": "code",
   "execution_count": 17,
   "metadata": {},
   "outputs": [
    {
     "data": {
      "text/plain": [
       "0    231173\n",
       "1     45667\n",
       "2     11564\n",
       "Name: cluster, dtype: int64"
      ]
     },
     "execution_count": 17,
     "metadata": {},
     "output_type": "execute_result"
    }
   ],
   "source": [
    "pca_df.cluster.value_counts()"
   ]
  },
  {
   "cell_type": "code",
   "execution_count": 18,
   "metadata": {},
   "outputs": [],
   "source": [
    "# add clusters back to merged dataframe\n",
    "merged['cluster'] = y_kmeans"
   ]
  },
  {
   "cell_type": "code",
   "execution_count": 19,
   "metadata": {},
   "outputs": [
    {
     "name": "stdout",
     "output_type": "stream",
     "text": [
      "Cluster 0\n",
      "Index(['pop', 'industrial rock', 'soul', 'rock', 'country', 'jazz',\n",
      "       'anti-folk', 'folk rock', 'folk', 'swedish'],\n",
      "      dtype='object')\n",
      "Cluster 1\n",
      "Index(['userAgent', 'itemInSession', 'indie rock', 'rock', 'hip hop',\n",
      "       'alternative rock', 'blues rock', 'uk', 'electronic', 'nu metal'],\n",
      "      dtype='object')\n",
      "Cluster 2\n",
      "Index(['userAgent', 'itemInSession', 'country', 'hip hop', 'pop', 'rock',\n",
      "       'folk rock', 'soul', 'jazz', 'blues rock'],\n",
      "      dtype='object')\n"
     ]
    }
   ],
   "source": [
    "# check the most important features for each cluster\n",
    "for i in range(3):\n",
    "    print('Cluster {}'.format(i))\n",
    "    # sort the values in descending order and show top 10 after excluding first 20 columns\n",
    "    print(merged[merged['cluster'] == i].astype(bool).sum(axis=0).sort_values(ascending=False).head(30).index[20:])"
   ]
  },
  {
   "attachments": {},
   "cell_type": "markdown",
   "metadata": {},
   "source": [
    "Okay, now it's the decisive point. I want to check whether my clusters have something to do with churn behaviour"
   ]
  },
  {
   "cell_type": "code",
   "execution_count": 20,
   "metadata": {},
   "outputs": [],
   "source": [
    "# define churn column\n",
    "merged['churn'] = merged['page'].apply(lambda x: 1 if x == 'Cancellation Confirmation' else 0)"
   ]
  },
  {
   "cell_type": "code",
   "execution_count": 21,
   "metadata": {},
   "outputs": [
    {
     "data": {
      "text/plain": [
       "0    288352\n",
       "1        52\n",
       "Name: churn, dtype: int64"
      ]
     },
     "execution_count": 21,
     "metadata": {},
     "output_type": "execute_result"
    }
   ],
   "source": [
    "merged[\"churn\"].value_counts()"
   ]
  },
  {
   "cell_type": "code",
   "execution_count": 22,
   "metadata": {},
   "outputs": [
    {
     "data": {
      "image/png": "[encoded data removed]",
      "text/plain": [
       "<Figure size 640x480 with 1 Axes>"
      ]
     },
     "metadata": {},
     "output_type": "display_data"
    }
   ],
   "source": [
    "# plot churn and cluster\n",
    "sns.countplot(x='cluster', hue='churn', data=merged[merged['churn'] != 0])\n",
    "plt.title('Churn by Cluster')\n",
    "plt.show()\n"
   ]
  },
  {
   "attachments": {},
   "cell_type": "markdown",
   "metadata": {},
   "source": [
    "Seems like all of the churners are clustered within cluster 0. And since we didn't use any other information than genre and artist types, I am pretty sure that there's no data leakage"
   ]
  },
  {
   "cell_type": "code",
   "execution_count": 23,
   "metadata": {},
   "outputs": [
    {
     "data": {
      "text/html": [
       "<div>\n",
       "<style scoped>\n",
       "    .dataframe tbody tr th:only-of-type {\n",
       "        vertical-align: middle;\n",
       "    }\n",
       "\n",
       "    .dataframe tbody tr th {\n",
       "        vertical-align: top;\n",
       "    }\n",
       "\n",
       "    .dataframe thead th {\n",
       "        text-align: right;\n",
       "    }\n",
       "</style>\n",
       "<table border=\"1\" class=\"dataframe\">\n",
       "  <thead>\n",
       "    <tr style=\"text-align: right;\">\n",
       "      <th>churn</th>\n",
       "      <th>0</th>\n",
       "      <th>1</th>\n",
       "    </tr>\n",
       "    <tr>\n",
       "      <th>cluster</th>\n",
       "      <th></th>\n",
       "      <th></th>\n",
       "    </tr>\n",
       "  </thead>\n",
       "  <tbody>\n",
       "    <tr>\n",
       "      <th>0</th>\n",
       "      <td>231121</td>\n",
       "      <td>52</td>\n",
       "    </tr>\n",
       "    <tr>\n",
       "      <th>1</th>\n",
       "      <td>45667</td>\n",
       "      <td>0</td>\n",
       "    </tr>\n",
       "    <tr>\n",
       "      <th>2</th>\n",
       "      <td>11564</td>\n",
       "      <td>0</td>\n",
       "    </tr>\n",
       "  </tbody>\n",
       "</table>\n",
       "</div>"
      ],
      "text/plain": [
       "churn         0   1\n",
       "cluster            \n",
       "0        231121  52\n",
       "1         45667   0\n",
       "2         11564   0"
      ]
     },
     "execution_count": 23,
     "metadata": {},
     "output_type": "execute_result"
    }
   ],
   "source": [
    "# tabulate the churn by cluster\n",
    "pd.crosstab(merged['cluster'], merged['churn'])"
   ]
  },
  {
   "attachments": {},
   "cell_type": "markdown",
   "metadata": {},
   "source": [
    "I am extremely happy with this result."
   ]
  },
  {
   "cell_type": "code",
   "execution_count": 24,
   "metadata": {},
   "outputs": [
    {
     "data": {
      "text/plain": [
       "79.67091736330862"
      ]
     },
     "execution_count": 24,
     "metadata": {},
     "output_type": "execute_result"
    }
   ],
   "source": [
    "merged[\"ext:score\"].mean()"
   ]
  },
  {
   "cell_type": "code",
   "execution_count": 25,
   "metadata": {},
   "outputs": [
    {
     "name": "stdout",
     "output_type": "stream",
     "text": [
      "Cluster 0\n",
      "77.60607506361323\n",
      "Cluster 1\n",
      "80.34839161757944\n",
      "Cluster 2\n",
      "78.11829816672432\n"
     ]
    }
   ],
   "source": [
    "# ext:score variable seems important for churn. Calculate mean for each cluster\n",
    "for i in range(3):\n",
    "    print('Cluster {}'.format(i))\n",
    "    print(merged[merged['cluster'] == i][\"ext:score\"].mean())"
   ]
  },
  {
   "cell_type": "code",
   "execution_count": 26,
   "metadata": {},
   "outputs": [],
   "source": [
    "# rename gender_x column \n",
    "merged.rename(columns={'gender_x':'gender'}, inplace=True)"
   ]
  },
  {
   "cell_type": "code",
   "execution_count": 27,
   "metadata": {},
   "outputs": [
    {
     "data": {
      "text/plain": [
       "Index(['ts', 'userId', 'sessionId', 'page', 'auth', 'method', 'status',\n",
       "       'level', 'itemInSession', 'location', 'userAgent', 'lastName',\n",
       "       'firstName', 'registration', 'gender', 'artist', 'song', 'length',\n",
       "       'cluster', 'churn'],\n",
       "      dtype='object')"
      ]
     },
     "execution_count": 27,
     "metadata": {},
     "output_type": "execute_result"
    }
   ],
   "source": [
    "final_cols =  df.columns\n",
    "# add cluster and churn columns to final_cols\n",
    "final_cols = final_cols.append(pd.Index(['cluster', 'churn']))\n",
    "final_cols"
   ]
  },
  {
   "cell_type": "code",
   "execution_count": 28,
   "metadata": {},
   "outputs": [],
   "source": [
    "# create a dataframe with final_cols\n",
    "final_df = merged[final_cols].copy()\n",
    "# save the final dataframe to json file\n",
    "final_df.to_json('../data/final_df.json', orient='records', lines=True)\n"
   ]
  },
  {
   "attachments": {},
   "cell_type": "markdown",
   "metadata": {},
   "source": [
    "Even though I didn't use any other information than genre and artist types, I was able to cluster the data and see that the churners are clustered within cluster 0. This is a very good result.\n",
    "\n",
    "I will save the cluster column to the mini dataset and use it in the next notebook where I will first perform exploratory data analysis, feature engineering and then build a model to predict churn.\n",
    "\n"
   ]
  }
 ],
 "metadata": {
  "kernelspec": {
   "display_name": ".venv",
   "language": "python",
   "name": "python3"
  },
  "language_info": {
   "codemirror_mode": {
    "name": "ipython",
    "version": 3
   },
   "file_extension": ".py",
   "mimetype": "text/x-python",
   "name": "python",
   "nbconvert_exporter": "python",
   "pygments_lexer": "ipython3",
   "version": "3.8.2 (default, Jul 14 2020, 05:39:05) \n[Clang 12.0.0 (clang-1200.0.26.2)]"
  },
  "orig_nbformat": 4,
  "vscode": {
   "interpreter": {
    "hash": "76591053f9b069e508cee440cc33afdc6edbabdb95a7503adbfed00e238d5da9"
   }
  }
 },
 "nbformat": 4,
 "nbformat_minor": 2
}
